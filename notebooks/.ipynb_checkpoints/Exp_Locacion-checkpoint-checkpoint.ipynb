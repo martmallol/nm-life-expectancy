{
 "cells": [
  {
   "cell_type": "markdown",
   "id": "0ecd50d2",
   "metadata": {},
   "source": [
    "# Experimentacion - AGREGANDO DATA EXTERNA"
   ]
  },
  {
   "cell_type": "markdown",
   "id": "0d075401",
   "metadata": {},
   "source": [
    "## Modelo - Ubicacion (Latitud y Longitud, Continente)"
   ]
  },
  {
   "cell_type": "markdown",
   "id": "7c452d9d",
   "metadata": {
    "jp-MarkdownHeadingCollapsed": true,
    "tags": []
   },
   "source": [
    "### Voy a experimentar con las caracterisiticas principales de los paises, como su ubicacion, su status, su capacidad de gasto. Todo ese tipo de atributos que lo encasillan en una etiqueta en particular. La zona donde se ubica un pais puede explicar varias cosas sobre el. Si pensamos en un pais ubicado en el hemisferio norte del mundo, es probable que demos con uno desarrollado. Mientras que si, por ejemplo, pensamos en un pais ubicado en Africa, es probable que su expectativa de vida sea menor a la media. Vamos a ver como esto se condice con los datos y el analisis de regresion."
   ]
  },
  {
   "cell_type": "markdown",
   "id": "f4fb6188",
   "metadata": {},
   "source": [
    "### Importo todos los modulos, funciones y datasets que me son de ayuda para la experimentacion"
   ]
  },
  {
   "cell_type": "code",
   "execution_count": 4,
   "id": "f789db6d",
   "metadata": {},
   "outputs": [
    {
     "ename": "ModuleNotFoundError",
     "evalue": "No module named 'statsmodels'",
     "output_type": "error",
     "traceback": [
      "\u001b[0;31m---------------------------------------------------------------------------\u001b[0m",
      "\u001b[0;31mModuleNotFoundError\u001b[0m                       Traceback (most recent call last)",
      "\u001b[0;32m<ipython-input-4-63ee9364f6f3>\u001b[0m in \u001b[0;36m<module>\u001b[0;34m\u001b[0m\n\u001b[1;32m      2\u001b[0m \u001b[0;32mimport\u001b[0m \u001b[0mmatplotlib\u001b[0m\u001b[0;34m.\u001b[0m\u001b[0mpyplot\u001b[0m \u001b[0;32mas\u001b[0m \u001b[0mplt\u001b[0m\u001b[0;34m\u001b[0m\u001b[0m\n\u001b[1;32m      3\u001b[0m \u001b[0;32mimport\u001b[0m \u001b[0mnumpy\u001b[0m \u001b[0;32mas\u001b[0m \u001b[0mnp\u001b[0m\u001b[0;34m\u001b[0m\u001b[0m\n\u001b[0;32m----> 4\u001b[0;31m \u001b[0;32mimport\u001b[0m \u001b[0mstatsmodels\u001b[0m\u001b[0;34m.\u001b[0m\u001b[0mapi\u001b[0m \u001b[0;32mas\u001b[0m \u001b[0msm\u001b[0m\u001b[0;34m\u001b[0m\u001b[0m\n\u001b[0m\u001b[1;32m      5\u001b[0m \u001b[0;32mimport\u001b[0m \u001b[0mstatsmodels\u001b[0m\u001b[0;34m.\u001b[0m\u001b[0mformula\u001b[0m\u001b[0;34m.\u001b[0m\u001b[0mapi\u001b[0m \u001b[0;32mas\u001b[0m \u001b[0msmf\u001b[0m\u001b[0;34m\u001b[0m\u001b[0m\n\u001b[1;32m      6\u001b[0m \u001b[0;32mimport\u001b[0m \u001b[0mpandas\u001b[0m \u001b[0;32mas\u001b[0m \u001b[0mpd\u001b[0m\u001b[0;34m\u001b[0m\u001b[0m\n",
      "\u001b[0;31mModuleNotFoundError\u001b[0m: No module named 'statsmodels'"
     ]
    }
   ],
   "source": [
    "import pandas as pd\n",
    "import matplotlib.pyplot as plt\n",
    "import numpy as np\n",
    "import statsmodels.api as sm\n",
    "import statsmodels.formula.api as smf\n",
    "import pandas as pd\n",
    "import seaborn as sns\n",
    "import numpy as np\n",
    "from sklearn.metrics import r2_score, mean_squared_error\n",
    "import matplotlib.pyplot as plt\n",
    "from statsmodels.stats.outliers_influence import variance_inflation_factor\n",
    "from sklearn.linear_model import LinearRegression\n",
    "import statsmodels.api as sm\n",
    "from statsmodels.stats.outliers_influence import OLSInfluence as influence\n",
    "\n",
    "def rmse(fitted, target):\n",
    "    rmse = np.sqrt(mean_squared_error(target, fitted))\n",
    "    return rmse\n",
    "\n",
    "def adjusted_r2(p, fitted, target):\n",
    "    n=len(target)\n",
    "    return 1 - (1-r2_score(target, fitted)) * (n-1) / (n-p-1)\n",
    "\n",
    "def standarized_residual_plot(predicted, actual):\n",
    "    residuals = actual - predicted\n",
    "    standarized_residuals = residuals/np.std(residuals)\n",
    "    plt.scatter(predicted, standarized_residuals)\n",
    "    plt.xlabel(\"Predicciones\")\n",
    "    plt.ylabel(\"Residuos standarizados\")\n",
    "    plt.hlines(0, xmin=min(predicted), xmax=max(predicted))\n",
    "    plt.title(\"Residuos standarizados\")\n",
    "    return standarized_residuals\n",
    "\n",
    "def ols_influence(lm):\n",
    "    plt.figure(figsize=(30,30))\n",
    "    sm.graphics.influence_plot(lm, alpha  = 0.05, criterion=\"cooks\")\n",
    "    plt.show()\n",
    "\n",
    "    \n",
    "def run_analysis(predictors, dataset):\n",
    "    target = dataset['Life expectancy']\n",
    "    p=len(predictors)\n",
    "    features= dataset[predictors].to_numpy()\n",
    "    if len(predictors)>1:\n",
    "        for i in range(0, len(predictors)):\n",
    "            print(f\"VIF for {predictors[i]} {variance_inflation_factor(features, i)}\")\n",
    "\n",
    "    features = sm.add_constant(features)\n",
    "    regr = sm.OLS(target, features).fit()\n",
    "    fitted = regr.predict(features)\n",
    "    print(regr.summary())\n",
    "    standarized_residuals = standarized_residual_plot(fitted, target)\n",
    "    ols_influence(regr)\n",
    "    #sm.qqplot(regr.resid)\n",
    "    plt.figure()\n",
    "    plt.hist(regr.resid)\n",
    "    plt.show()\n",
    "    return {\n",
    "        'r2':r2_score(target, fitted),\n",
    "        'rmse':rmse(fitted, target),\n",
    "        'adjusted':adjusted_r2(p, fitted, target),\n",
    "    }\n",
    "\n",
    "# Me da los residuos estandarizados\n",
    "def residuos(predictors, dataset):\n",
    "    target = dataset['Life expectancy']\n",
    "    p=len(predictors)\n",
    "    features= dataset[predictors].to_numpy()\n",
    "    if len(predictors)>1:\n",
    "        for i in range(0, len(predictors)):\n",
    "            print(f\"VIF for {predictors[i]} {variance_inflation_factor(features, i)}\")\n",
    "\n",
    "    features = sm.add_constant(features)\n",
    "    regr = sm.OLS(target, features).fit()\n",
    "    fitted = regr.predict(features)\n",
    "    standarized_residuals = standarized_residual_plot(fitted, target)\n",
    "    return np.array(standarized_residuals)\n",
    "\n",
    "\n",
    "# Me da la distancia de Cook de cada pais\n",
    "def cooksDist(predictors, dataset):\n",
    "    target = dataset['Life expectancy']\n",
    "    p=len(predictors)\n",
    "    features= dataset[predictors].to_numpy()\n",
    "    if len(predictors)>1:\n",
    "        for i in range(0, len(predictors)):\n",
    "            print(f\"VIF for {predictors[i]} {variance_inflation_factor(features, i)}\")\n",
    "\n",
    "    features = sm.add_constant(features)\n",
    "    regr = sm.OLS(target, features).fit()\n",
    "    inf = influence(regr)\n",
    "    # cooks_distance is an attribute of incluence, here C, not sure about P (p-value maybe?)\n",
    "    C, P = inf.cooks_distance\n",
    "    return C, P\n",
    "\n",
    "# Me da el Leverage de cada pais\n",
    "def getLeverage(predictors, dataset):\n",
    "    target = dataset['Life expectancy']\n",
    "    p=len(predictors)\n",
    "    features= dataset[predictors].to_numpy()\n",
    "    if len(predictors)>1:\n",
    "        for i in range(0, len(predictors)):\n",
    "            print(f\"VIF for {predictors[i]} {variance_inflation_factor(features, i)}\")\n",
    "\n",
    "    features = sm.add_constant(features)\n",
    "    regr = sm.OLS(target, features).fit()\n",
    "    inf = influence(regr)\n",
    "    leverage = inf.hat_matrix_diag\n",
    "    return leverage\n",
    "\n",
    "\n",
    "df_exp = pd.read_csv(\"expectativa_de_vida.csv\")\n",
    "df_coord = pd.read_csv(\"average-latitude-longitude-countries.csv\")"
   ]
  },
  {
   "cell_type": "markdown",
   "id": "b1eb7582",
   "metadata": {},
   "source": [
    "### Armo el data set con la ubicacion en el mapa de cada pais (como se realiza en el archivo 'Mapa.ipynb')"
   ]
  },
  {
   "cell_type": "code",
   "execution_count": null,
   "id": "1159db81",
   "metadata": {},
   "outputs": [],
   "source": [
    "paises = []\n",
    "nombres1 = df_exp[\"Country\"].tolist()\n",
    "nombres2 = df_coord[\"Country\"].tolist()\n",
    "\n",
    "from difflib import SequenceMatcher\n",
    "\n",
    "for i in range(len(nombres1)):\n",
    "    n1 = nombres1[i]\n",
    "    \n",
    "    conSubstringsEnComun = []\n",
    "    \n",
    "    for j in range(len(nombres2)):\n",
    "        n2 = nombres2[j]\n",
    "        seq = SequenceMatcher(None, n1, n2)\n",
    "        match = seq.find_longest_match(0,len(n1),0,len(n2))\n",
    "        r = seq.ratio()\n",
    "        \n",
    "        if ((match[2] == len(n1)) or (match[2] == len(n2)) or (match[2] > 3 and r>0.6)):\n",
    "            conSubstringsEnComun.append([r,n1,n2])\n",
    "        \n",
    "    conSubstringsEnComun.sort()\n",
    "    conSubstringsEnComun.reverse()\n",
    "    \n",
    "    \n",
    "    if (len(conSubstringsEnComun) > 0):\n",
    "        paises.append([conSubstringsEnComun[0][1], conSubstringsEnComun[0][2]])\n",
    "    else:\n",
    "        paises.append(n1)"
   ]
  },
  {
   "cell_type": "code",
   "execution_count": null,
   "id": "03aabfa0",
   "metadata": {},
   "outputs": [],
   "source": [
    "df = df_exp\n",
    "latitudes = []\n",
    "longitudes = []\n",
    "\n",
    "for i in range(len(paises)):\n",
    "    lat = df_coord[df_coord[\"Country\"]==paises[i][1]][\"Latitude\"].values\n",
    "    long = df_coord[df_coord[\"Country\"]==paises[i][1]][\"Longitude\"].values\n",
    "    if len(lat) > 0:\n",
    "        lat = lat[0]\n",
    "        long = long[0]\n",
    "    else:\n",
    "        lat = 0\n",
    "        long = 0\n",
    "    latitudes.append(lat)\n",
    "    longitudes.append(long)\n",
    "\n",
    "df[\"Latitude\"] = latitudes\n",
    "df[\"Longitude\"] = longitudes"
   ]
  },
  {
   "cell_type": "code",
   "execution_count": null,
   "id": "496f4089",
   "metadata": {},
   "outputs": [],
   "source": [
    "df['Status_Float'] = df['Status'].apply(lambda x: 0 if x=='Developing' else 1)\n"
   ]
  },
  {
   "cell_type": "code",
   "execution_count": null,
   "id": "4010cda0",
   "metadata": {},
   "outputs": [],
   "source": [
    "df[(df[\"Life expectancy\"] > 80) & (df[\"Status\"] == \"Developing\")]"
   ]
  },
  {
   "cell_type": "code",
   "execution_count": null,
   "id": "a2d91d37",
   "metadata": {},
   "outputs": [],
   "source": [
    "df[(df[\"Life expectancy\"] < 75) & (df[\"Status\"] == \"Developed\")]"
   ]
  },
  {
   "cell_type": "markdown",
   "id": "3f19eda0",
   "metadata": {},
   "source": [
    "## Seteo correctamente el continente a un par de paises mal categorizados"
   ]
  },
  {
   "cell_type": "code",
   "execution_count": null,
   "id": "598b7641",
   "metadata": {},
   "outputs": [],
   "source": [
    "df.loc[30, 'Status_Float'] = 1 #Cnada\n",
    "df.loc[57, 'Status_Float'] = 1 #Finland\n",
    "df.loc[58, 'Status_Float'] = 1 #France\n",
    "df.loc[64, 'Status_Float'] = 1 #Greece\n",
    "df.loc[79, 'Status_Float'] = 1 #Israel\n",
    "df.loc[130, 'Status_Float'] = 1 #Republic of Korea\n",
    "df.loc[24, 'Status_Float'] = 0 #Bulgaria\n",
    "df.loc[72, 'Status_Float'] = 0 #Hungría\n",
    "df.loc[95, 'Status_Float'] = 0 #Lithuania\n",
    "df.loc[132, 'Status_Float'] = 0 #Rumanía\n",
    "df.loc[145, 'Status_Float'] = 0 #Eslovaquia\n"
   ]
  },
  {
   "cell_type": "code",
   "execution_count": null,
   "id": "58c296a1",
   "metadata": {},
   "outputs": [],
   "source": [
    "df.info()\n"
   ]
  },
  {
   "cell_type": "markdown",
   "id": "e39ff043",
   "metadata": {},
   "source": [
    "### Ahora agrego la zona donde se encuentra cada Estado"
   ]
  },
  {
   "cell_type": "code",
   "execution_count": null,
   "id": "0f553b86",
   "metadata": {},
   "outputs": [],
   "source": [
    "df_zona = pd.read_csv(\"country-and-continent-codes-list.csv\")"
   ]
  },
  {
   "cell_type": "code",
   "execution_count": null,
   "id": "f7c3e836",
   "metadata": {},
   "outputs": [],
   "source": [
    "df_zona.info()"
   ]
  },
  {
   "cell_type": "markdown",
   "id": "d5540135",
   "metadata": {},
   "source": [
    "### Equivalencia entre paises"
   ]
  },
  {
   "cell_type": "code",
   "execution_count": 5,
   "id": "2e548a0e",
   "metadata": {},
   "outputs": [
    {
     "ename": "NameError",
     "evalue": "name 'df' is not defined",
     "output_type": "error",
     "traceback": [
      "\u001b[0;31m---------------------------------------------------------------------------\u001b[0m",
      "\u001b[0;31mNameError\u001b[0m                                 Traceback (most recent call last)",
      "\u001b[0;32m<ipython-input-5-0d276fae49f1>\u001b[0m in \u001b[0;36m<module>\u001b[0;34m\u001b[0m\n\u001b[1;32m      1\u001b[0m \u001b[0mpaises\u001b[0m \u001b[0;34m=\u001b[0m \u001b[0;34m[\u001b[0m\u001b[0;34m]\u001b[0m\u001b[0;34m\u001b[0m\u001b[0m\n\u001b[0;32m----> 2\u001b[0;31m \u001b[0mnombres1\u001b[0m \u001b[0;34m=\u001b[0m \u001b[0mdf\u001b[0m\u001b[0;34m[\u001b[0m\u001b[0;34m\"Country\"\u001b[0m\u001b[0;34m]\u001b[0m\u001b[0;34m.\u001b[0m\u001b[0mtolist\u001b[0m\u001b[0;34m(\u001b[0m\u001b[0;34m)\u001b[0m\u001b[0;34m\u001b[0m\u001b[0m\n\u001b[0m\u001b[1;32m      3\u001b[0m \u001b[0mnombres2\u001b[0m \u001b[0;34m=\u001b[0m \u001b[0mdf_zona\u001b[0m\u001b[0;34m[\u001b[0m\u001b[0;34m\"Country_Name\"\u001b[0m\u001b[0;34m]\u001b[0m\u001b[0;34m.\u001b[0m\u001b[0mtolist\u001b[0m\u001b[0;34m(\u001b[0m\u001b[0;34m)\u001b[0m\u001b[0;34m\u001b[0m\u001b[0m\n\u001b[1;32m      4\u001b[0m \u001b[0;34m\u001b[0m\u001b[0m\n\u001b[1;32m      5\u001b[0m \u001b[0;32mfor\u001b[0m \u001b[0mi\u001b[0m \u001b[0;32min\u001b[0m \u001b[0mrange\u001b[0m\u001b[0;34m(\u001b[0m\u001b[0mlen\u001b[0m\u001b[0;34m(\u001b[0m\u001b[0mnombres1\u001b[0m\u001b[0;34m)\u001b[0m\u001b[0;34m)\u001b[0m\u001b[0;34m:\u001b[0m\u001b[0;34m\u001b[0m\u001b[0m\n",
      "\u001b[0;31mNameError\u001b[0m: name 'df' is not defined"
     ]
    }
   ],
   "source": [
    "paises = []\n",
    "nombres1 = df[\"Country\"].tolist()\n",
    "nombres2 = df_zona[\"Country_Name\"].tolist()\n",
    "\n",
    "for i in range(len(nombres1)):\n",
    "    n1 = nombres1[i]\n",
    "    \n",
    "    conSubstringsEnComun = []\n",
    "    \n",
    "    for j in range(len(nombres2)):\n",
    "        n2 = nombres2[j]\n",
    "        seq = SequenceMatcher(None, n1, n2)\n",
    "        match = seq.find_longest_match(0,len(n1),0,len(n2))\n",
    "        \n",
    "        \"\"\"\n",
    "        if ((match[2] == len(n1)) or (match[2] == len(n2))):\n",
    "            r = seq.ratio()\n",
    "            conSubstringsEnComun.append([r,n1,n2])\n",
    "        \"\"\"\n",
    "        r = seq.ratio()\n",
    "        \n",
    "        if ((match[2] == len(n1)) or (match[2] == len(n2)) or (match[2] > 3 and r>0.6)):\n",
    "            conSubstringsEnComun.append([r,n1,n2])\n",
    "        \n",
    "    conSubstringsEnComun.sort()\n",
    "    conSubstringsEnComun.reverse()\n",
    "    \n",
    "    \n",
    "    if (len(conSubstringsEnComun) > 0):\n",
    "        paises.append([conSubstringsEnComun[0][1], conSubstringsEnComun[0][2]])\n",
    "    else:\n",
    "        paises.append(n1)"
   ]
  },
  {
   "cell_type": "code",
   "execution_count": null,
   "id": "b6a80b7d",
   "metadata": {},
   "outputs": [],
   "source": [
    "df_new = df\n",
    "zonas = []\n",
    "\n",
    "for i in range(len(paises)):\n",
    "    zone = df_zona[df_zona[\"Country_Name\"]==paises[i][1]][\"Continent_Name\"].values\n",
    "    if len(zone) > 0:\n",
    "        zone = zone[0]\n",
    "    else:\n",
    "        zone = 'null'\n",
    "    zonas.append(zone)\n",
    "\n",
    "df_new[\"Continente\"] = zonas"
   ]
  },
  {
   "cell_type": "code",
   "execution_count": null,
   "id": "71e6be9c",
   "metadata": {},
   "outputs": [],
   "source": [
    "df_new[\"Continente\"]"
   ]
  },
  {
   "cell_type": "markdown",
   "id": "a0e58765",
   "metadata": {},
   "source": [
    "### Veo aquellos paises que quedaron sin zona y los completamos"
   ]
  },
  {
   "cell_type": "code",
   "execution_count": null,
   "id": "bfaf516a",
   "metadata": {},
   "outputs": [],
   "source": [
    "df_new[df_new[\"Continente\"] == 'null']"
   ]
  },
  {
   "cell_type": "markdown",
   "id": "a316fcc6",
   "metadata": {},
   "source": [
    "### Les asigno sus respectivos continentes"
   ]
  },
  {
   "cell_type": "code",
   "execution_count": null,
   "id": "d8bc0632",
   "metadata": {},
   "outputs": [],
   "source": [
    "df_new.loc[19, 'Continente'] = 'South America' #Bolivia\n",
    "df_new.loc[27, 'Continente'] = 'Africa' #Cabo Verde\n",
    "df_new.loc[42, 'Continente'] = 'Europe' #Czechia\n",
    "df_new.loc[88, 'Continente'] = 'Asia' # Kyrgyzstan\n",
    "df_new.loc[179, 'Continente'] = 'Asia' #Viet Nam"
   ]
  },
  {
   "cell_type": "code",
   "execution_count": 6,
   "id": "fd659143",
   "metadata": {},
   "outputs": [
    {
     "ename": "NameError",
     "evalue": "name 'df_new' is not defined",
     "output_type": "error",
     "traceback": [
      "\u001b[0;31m---------------------------------------------------------------------------\u001b[0m",
      "\u001b[0;31mNameError\u001b[0m                                 Traceback (most recent call last)",
      "\u001b[0;32m<ipython-input-6-7da53361a8ea>\u001b[0m in \u001b[0;36m<module>\u001b[0;34m\u001b[0m\n\u001b[0;32m----> 1\u001b[0;31m \u001b[0mdf_new\u001b[0m\u001b[0;34m[\u001b[0m\u001b[0mdf_new\u001b[0m\u001b[0;34m[\u001b[0m\u001b[0;34m'Country'\u001b[0m\u001b[0;34m]\u001b[0m \u001b[0;34m==\u001b[0m \u001b[0;34m'Bolivia (Plurinational State of)'\u001b[0m\u001b[0;34m]\u001b[0m\u001b[0;34m[\u001b[0m\u001b[0;34m'Continente'\u001b[0m\u001b[0;34m]\u001b[0m\u001b[0;34m\u001b[0m\u001b[0m\n\u001b[0m",
      "\u001b[0;31mNameError\u001b[0m: name 'df_new' is not defined"
     ]
    }
   ],
   "source": [
    "df_new[df_new['Country'] == 'Bolivia (Plurinational State of)']['Continente'] "
   ]
  },
  {
   "cell_type": "markdown",
   "id": "3f87bedb",
   "metadata": {},
   "source": [
    "## Convierto en variables dummie "
   ]
  },
  {
   "cell_type": "code",
   "execution_count": null,
   "id": "0c3388e3",
   "metadata": {},
   "outputs": [],
   "source": [
    "dummies = pd.get_dummies(df_new.Continente)\n",
    "print(dummies)\n",
    "df_new = df_new.join(dummies)\n"
   ]
  },
  {
   "cell_type": "markdown",
   "id": "134849b1",
   "metadata": {},
   "source": [
    "### Sabiendo las coordenadas de cada pais, analizamos como estas infieren en su expectativa de vida"
   ]
  },
  {
   "cell_type": "code",
   "execution_count": null,
   "id": "de0bea78",
   "metadata": {},
   "outputs": [],
   "source": [
    "run_analysis(['Latitude', 'Longitude'], df_new)"
   ]
  },
  {
   "cell_type": "markdown",
   "id": "ea6cc7ab",
   "metadata": {},
   "source": [
    "### Por lo pronto no hay un valor considerable en el ajuste. Y si anadimos su zona? Nos proveera mas informacion esto?"
   ]
  },
  {
   "cell_type": "markdown",
   "id": "792c5c5f",
   "metadata": {},
   "source": [
    "### Agregamos el continente de un pais"
   ]
  },
  {
   "cell_type": "code",
   "execution_count": null,
   "id": "e98b7038",
   "metadata": {},
   "outputs": [],
   "source": [
    "run_analysis(['Africa', 'Asia', 'Europe', 'North America', 'Oceania',\n",
    "       'South America'], df_new)"
   ]
  },
  {
   "cell_type": "markdown",
   "id": "c207fa60",
   "metadata": {},
   "source": [
    "### Ahora si, mejora considerablemente. Que pasa si agregamos el status de un pais tambien?"
   ]
  },
  {
   "cell_type": "code",
   "execution_count": 7,
   "id": "6138f280",
   "metadata": {},
   "outputs": [
    {
     "ename": "NameError",
     "evalue": "name 'run_analysis' is not defined",
     "output_type": "error",
     "traceback": [
      "\u001b[0;31m---------------------------------------------------------------------------\u001b[0m",
      "\u001b[0;31mNameError\u001b[0m                                 Traceback (most recent call last)",
      "\u001b[0;32m<ipython-input-7-f77b6bc27834>\u001b[0m in \u001b[0;36m<module>\u001b[0;34m\u001b[0m\n\u001b[0;32m----> 1\u001b[0;31m run_analysis(['Africa', 'Asia', 'Europe', 'North America', 'Oceania',\n\u001b[0m\u001b[1;32m      2\u001b[0m        'South America', 'Status_Float'], df_new)\n",
      "\u001b[0;31mNameError\u001b[0m: name 'run_analysis' is not defined"
     ]
    }
   ],
   "source": [
    "run_analysis(['Africa', 'Asia', 'Europe', 'North America', 'Oceania',\n",
    "       'South America', 'Status_Float'], df_new)"
   ]
  },
  {
   "cell_type": "markdown",
   "id": "16821deb",
   "metadata": {},
   "source": [
    "## Calculo residuos"
   ]
  },
  {
   "cell_type": "code",
   "execution_count": null,
   "id": "36646563",
   "metadata": {},
   "outputs": [],
   "source": [
    "residuos_con_status = residuos(['Africa', 'Asia', 'Europe', 'North America', 'Oceania',\n",
    "       'South America', 'Status_Float'], df_new)\n",
    "residuos_sin_status = residuos(['Africa', 'Asia', 'Europe', 'North America', 'Oceania',\n",
    "       'South America'], df_new)"
   ]
  },
  {
   "cell_type": "code",
   "execution_count": null,
   "id": "5342878f",
   "metadata": {},
   "outputs": [],
   "source": [
    "plot = sns.distplot(residuos_sin_status)\n",
    "plot.set(xlabel='Residuo standarizados', ylabel='Densidad')\n",
    "fig = plot.get_figure()\n",
    "fig.savefig('residuos_sin_status') "
   ]
  },
  {
   "cell_type": "code",
   "execution_count": null,
   "id": "920bb672",
   "metadata": {},
   "outputs": [],
   "source": [
    "plot = sns.distplot(residuos_con_status)\n",
    "plot.set(xlabel='Residuo standarizados', ylabel='Densidad')\n",
    "fig = plot.get_figure()\n",
    "fig.savefig('residuos_con_status') "
   ]
  },
  {
   "cell_type": "markdown",
   "id": "395d935d",
   "metadata": {},
   "source": [
    "### Genera una mejora. Finalizemos agregando el gasto por pais, esto seguro nos dara un mayor contexto. Mezclando no solo la geografia de los paises sino tambien las finanzas, estos atributos van de la mano con el 'Status' de un pais. Estaran tan correlacionados con la zona como este ultimo?"
   ]
  },
  {
   "cell_type": "markdown",
   "id": "0da8a6a5",
   "metadata": {},
   "source": [
    "### Saco los paises con percentage expenditure que no consideramos validos"
   ]
  },
  {
   "cell_type": "code",
   "execution_count": 8,
   "id": "b04750d2",
   "metadata": {},
   "outputs": [
    {
     "ename": "NameError",
     "evalue": "name 'df_new' is not defined",
     "output_type": "error",
     "traceback": [
      "\u001b[0;31m---------------------------------------------------------------------------\u001b[0m",
      "\u001b[0;31mNameError\u001b[0m                                 Traceback (most recent call last)",
      "\u001b[0;32m<ipython-input-8-f90d8d8f549d>\u001b[0m in \u001b[0;36m<module>\u001b[0;34m\u001b[0m\n\u001b[0;32m----> 1\u001b[0;31m \u001b[0mdf_new\u001b[0m \u001b[0;34m=\u001b[0m \u001b[0mdf_new\u001b[0m\u001b[0;34m[\u001b[0m\u001b[0mdf_new\u001b[0m\u001b[0;34m[\u001b[0m\u001b[0;34m\"percentage expenditure\"\u001b[0m\u001b[0;34m]\u001b[0m \u001b[0;34m<=\u001b[0m \u001b[0;36m1000\u001b[0m\u001b[0;34m]\u001b[0m\u001b[0;34m\u001b[0m\u001b[0m\n\u001b[0m",
      "\u001b[0;31mNameError\u001b[0m: name 'df_new' is not defined"
     ]
    }
   ],
   "source": [
    "df_new = df_new[df_new[\"percentage expenditure\"] <= 1000]"
   ]
  },
  {
   "cell_type": "code",
   "execution_count": null,
   "id": "2c96f33b",
   "metadata": {},
   "outputs": [],
   "source": [
    "df_new = df_new[df_new['percentage expenditure'].notna()]\n",
    "df_new[f'Normalizado_Gasto'] = (df_new['percentage expenditure']-np.mean(df_new['percentage expenditure']))/np.std(df_new['percentage expenditure'])"
   ]
  },
  {
   "cell_type": "code",
   "execution_count": 9,
   "id": "73ff6d65",
   "metadata": {},
   "outputs": [
    {
     "ename": "NameError",
     "evalue": "name 'run_analysis' is not defined",
     "output_type": "error",
     "traceback": [
      "\u001b[0;31m---------------------------------------------------------------------------\u001b[0m",
      "\u001b[0;31mNameError\u001b[0m                                 Traceback (most recent call last)",
      "\u001b[0;32m<ipython-input-9-e8245941bd81>\u001b[0m in \u001b[0;36m<module>\u001b[0;34m\u001b[0m\n\u001b[0;32m----> 1\u001b[0;31m run_analysis(['Africa', 'Asia', 'Europe', 'North America', 'Oceania',\n\u001b[0m\u001b[1;32m      2\u001b[0m        'South America', 'Normalizado_Gasto'], df_new)\n",
      "\u001b[0;31mNameError\u001b[0m: name 'run_analysis' is not defined"
     ]
    }
   ],
   "source": [
    "run_analysis(['Africa', 'Asia', 'Europe', 'North America', 'Oceania',\n",
    "       'South America', 'Normalizado_Gasto'], df_new)"
   ]
  },
  {
   "cell_type": "code",
   "execution_count": null,
   "id": "6116937b",
   "metadata": {},
   "outputs": [],
   "source": [
    "residuos_con_pe = residuos(['Africa', 'Asia', 'Europe', 'North America', 'Oceania',\n",
    "       'South America', 'Normalizado_Gasto'], df_new)"
   ]
  },
  {
   "cell_type": "code",
   "execution_count": null,
   "id": "0e983cc8",
   "metadata": {},
   "outputs": [],
   "source": [
    "plot = sns.distplot(residuos_con_pe)\n",
    "plot.set(xlabel='Residuo standarizados', ylabel='Densidad')\n",
    "fig = plot.get_figure()\n",
    "fig.savefig('residuos_con_gasto') "
   ]
  },
  {
   "cell_type": "markdown",
   "id": "06644403",
   "metadata": {},
   "source": [
    "### Subio el ajuste, pero no tanto. Sera porque la zona de un pais y su gasto estan demasiado correlacionados?"
   ]
  },
  {
   "cell_type": "markdown",
   "id": "966e32c9",
   "metadata": {},
   "source": [
    "## Saco outliers"
   ]
  },
  {
   "cell_type": "markdown",
   "id": "96576e00",
   "metadata": {},
   "source": [
    "### Residuos"
   ]
  },
  {
   "cell_type": "code",
   "execution_count": null,
   "id": "957b2cfb",
   "metadata": {},
   "outputs": [],
   "source": [
    "residuos_out = residuos(['Africa', 'Asia', 'Europe', 'North America', 'Oceania',\n",
    "       'South America', 'Normalizado_Gasto'], df_new)"
   ]
  },
  {
   "cell_type": "code",
   "execution_count": null,
   "id": "f71869bd",
   "metadata": {},
   "outputs": [],
   "source": [
    "df_new_out = df_new.assign(residuos_out = residuos_out)\n",
    "print()"
   ]
  },
  {
   "cell_type": "markdown",
   "id": "86b7e14e",
   "metadata": {},
   "source": [
    "#### Veamos cuales quedan afuera"
   ]
  },
  {
   "cell_type": "code",
   "execution_count": 10,
   "id": "c636656b",
   "metadata": {},
   "outputs": [
    {
     "ename": "NameError",
     "evalue": "name 'df_new_out' is not defined",
     "output_type": "error",
     "traceback": [
      "\u001b[0;31m---------------------------------------------------------------------------\u001b[0m",
      "\u001b[0;31mNameError\u001b[0m                                 Traceback (most recent call last)",
      "\u001b[0;32m<ipython-input-10-7eea27cfc0f0>\u001b[0m in \u001b[0;36m<module>\u001b[0;34m\u001b[0m\n\u001b[0;32m----> 1\u001b[0;31m \u001b[0mdisplay\u001b[0m\u001b[0;34m(\u001b[0m\u001b[0mdf_new_out\u001b[0m\u001b[0;34m[\u001b[0m\u001b[0;34m(\u001b[0m\u001b[0mdf_new_out\u001b[0m\u001b[0;34m[\u001b[0m\u001b[0;34m\"residuos_out\"\u001b[0m\u001b[0;34m]\u001b[0m\u001b[0;34m**\u001b[0m\u001b[0;36m2\u001b[0m\u001b[0;34m)\u001b[0m\u001b[0;34m**\u001b[0m\u001b[0;36m0.5\u001b[0m \u001b[0;34m>\u001b[0m \u001b[0;36m2\u001b[0m\u001b[0;34m]\u001b[0m\u001b[0;34m)\u001b[0m\u001b[0;34m\u001b[0m\u001b[0m\n\u001b[0m",
      "\u001b[0;31mNameError\u001b[0m: name 'df_new_out' is not defined"
     ]
    }
   ],
   "source": [
    "display(df_new_out[(df_new_out[\"residuos_out\"]**2)**0.5 > 2])"
   ]
  },
  {
   "cell_type": "markdown",
   "id": "a9bf86a3",
   "metadata": {},
   "source": [
    "##### Los sacamos"
   ]
  },
  {
   "cell_type": "code",
   "execution_count": null,
   "id": "8bb7a452",
   "metadata": {},
   "outputs": [],
   "source": [
    "df_new_out = df_new_out[(df_new_out[\"residuos_out\"]**2)**0.5 <= 2]"
   ]
  },
  {
   "cell_type": "markdown",
   "id": "fa27bba4",
   "metadata": {},
   "source": [
    "### Distancia de Cook"
   ]
  },
  {
   "cell_type": "code",
   "execution_count": null,
   "id": "56e82989",
   "metadata": {},
   "outputs": [],
   "source": [
    "cook_out, p_out = cooksDist(['Africa', 'Asia', 'Europe', 'North America', 'Oceania',\n",
    "       'South America', 'Normalizado_Gasto'], df_new_out)"
   ]
  },
  {
   "cell_type": "code",
   "execution_count": 11,
   "id": "49be9ba6",
   "metadata": {},
   "outputs": [
    {
     "ename": "NameError",
     "evalue": "name 'df_new_out' is not defined",
     "output_type": "error",
     "traceback": [
      "\u001b[0;31m---------------------------------------------------------------------------\u001b[0m",
      "\u001b[0;31mNameError\u001b[0m                                 Traceback (most recent call last)",
      "\u001b[0;32m<ipython-input-11-1c4d64342dce>\u001b[0m in \u001b[0;36m<module>\u001b[0;34m\u001b[0m\n\u001b[0;32m----> 1\u001b[0;31m \u001b[0mdf_new_out\u001b[0m \u001b[0;34m=\u001b[0m \u001b[0mdf_new_out\u001b[0m\u001b[0;34m.\u001b[0m\u001b[0massign\u001b[0m\u001b[0;34m(\u001b[0m\u001b[0mcook_out\u001b[0m \u001b[0;34m=\u001b[0m \u001b[0mcook_out\u001b[0m\u001b[0;34m)\u001b[0m\u001b[0;34m\u001b[0m\u001b[0m\n\u001b[0m\u001b[1;32m      2\u001b[0m \u001b[0mdisplay\u001b[0m\u001b[0;34m(\u001b[0m\u001b[0mdf_new_out\u001b[0m\u001b[0;34m.\u001b[0m\u001b[0msort_values\u001b[0m\u001b[0;34m(\u001b[0m\u001b[0;34m'cook_out'\u001b[0m\u001b[0;34m)\u001b[0m\u001b[0;34m)\u001b[0m\u001b[0;34m\u001b[0m\u001b[0m\n",
      "\u001b[0;31mNameError\u001b[0m: name 'df_new_out' is not defined"
     ]
    }
   ],
   "source": [
    "df_new_out = df_new_out.assign(cook_out = cook_out)\n",
    "display(df_new_out.sort_values('cook_out'))"
   ]
  },
  {
   "cell_type": "code",
   "execution_count": null,
   "id": "9596c681",
   "metadata": {},
   "outputs": [],
   "source": [
    "display(df_new_out[df_new_out[\"cook_out\"] > 0.05])"
   ]
  },
  {
   "cell_type": "code",
   "execution_count": null,
   "id": "3f5b23ed",
   "metadata": {},
   "outputs": [],
   "source": [
    "df_new_out = df_new_out[df_new_out[\"cook_out\"] < 0.05]"
   ]
  },
  {
   "cell_type": "markdown",
   "id": "aa3b67f9",
   "metadata": {},
   "source": [
    "### Leverage"
   ]
  },
  {
   "cell_type": "code",
   "execution_count": null,
   "id": "319734a1",
   "metadata": {},
   "outputs": [],
   "source": [
    "leverage_out = getLeverage(['Africa', 'Asia', 'Europe', 'North America', 'Oceania',\n",
    "       'South America', 'Normalizado_Gasto',], df_new_out)"
   ]
  },
  {
   "cell_type": "code",
   "execution_count": null,
   "id": "4021ee64",
   "metadata": {},
   "outputs": [],
   "source": [
    "df_new_out = df_new_out.assign(leverage_out = leverage_out)"
   ]
  },
  {
   "cell_type": "code",
   "execution_count": 12,
   "id": "157c4a76",
   "metadata": {},
   "outputs": [
    {
     "ename": "NameError",
     "evalue": "name 'df_new_out' is not defined",
     "output_type": "error",
     "traceback": [
      "\u001b[0;31m---------------------------------------------------------------------------\u001b[0m",
      "\u001b[0;31mNameError\u001b[0m                                 Traceback (most recent call last)",
      "\u001b[0;32m<ipython-input-12-751b834d58de>\u001b[0m in \u001b[0;36m<module>\u001b[0;34m\u001b[0m\n\u001b[0;32m----> 1\u001b[0;31m \u001b[0mdisplay\u001b[0m\u001b[0;34m(\u001b[0m\u001b[0mdf_new_out\u001b[0m\u001b[0;34m[\u001b[0m\u001b[0mdf_new_out\u001b[0m\u001b[0;34m[\u001b[0m\u001b[0;34m\"leverage_out\"\u001b[0m\u001b[0;34m]\u001b[0m \u001b[0;34m>\u001b[0m \u001b[0;36m0.11\u001b[0m\u001b[0;34m]\u001b[0m\u001b[0;34m)\u001b[0m\u001b[0;34m\u001b[0m\u001b[0m\n\u001b[0m",
      "\u001b[0;31mNameError\u001b[0m: name 'df_new_out' is not defined"
     ]
    }
   ],
   "source": [
    "display(df_new_out[df_new_out[\"leverage_out\"] > 0.11])"
   ]
  },
  {
   "cell_type": "code",
   "execution_count": null,
   "id": "10060b57",
   "metadata": {},
   "outputs": [],
   "source": [
    "df_new_out = df_new_out[df_new_out[\"leverage_out\"] < 0.11]"
   ]
  },
  {
   "cell_type": "code",
   "execution_count": null,
   "id": "6ebadb58",
   "metadata": {},
   "outputs": [],
   "source": [
    "pd.concat([df_new_out,df_new]).drop_duplicates(keep=False)\n"
   ]
  },
  {
   "cell_type": "markdown",
   "id": "80e9287d",
   "metadata": {},
   "source": [
    "### Rehago analisis"
   ]
  },
  {
   "cell_type": "code",
   "execution_count": null,
   "id": "3a6245da",
   "metadata": {},
   "outputs": [],
   "source": [
    "run_analysis(['Africa', 'Asia', 'Europe', 'North America', 'Oceania',\n",
    "       'South America', 'Normalizado_Gasto'], df_new_out)"
   ]
  },
  {
   "cell_type": "code",
   "execution_count": null,
   "id": "4f3e3caa",
   "metadata": {},
   "outputs": [],
   "source": [
    "residuos_sin_outliers = residuos(['Africa', 'Asia', 'Europe', 'North America', 'Oceania',\n",
    "       'South America', 'Normalizado_Gasto'], df_new_out)"
   ]
  },
  {
   "cell_type": "code",
   "execution_count": null,
   "id": "cb5da6c1",
   "metadata": {},
   "outputs": [],
   "source": [
    "plot = sns.distplot(residuos_sin_outliers)\n",
    "plot.set(xlabel='Residuo standarizados', ylabel='Densidad')\n",
    "fig = plot.get_figure()\n",
    "fig.savefig('residuos_sin_outliers') "
   ]
  },
  {
   "cell_type": "code",
   "execution_count": null,
   "id": "921483ad",
   "metadata": {},
   "outputs": [],
   "source": []
  },
  {
   "cell_type": "code",
   "execution_count": 13,
   "id": "ccc31518",
   "metadata": {},
   "outputs": [
    {
     "ename": "NameError",
     "evalue": "name 'df_virus' is not defined",
     "output_type": "error",
     "traceback": [
      "\u001b[0;31m---------------------------------------------------------------------------\u001b[0m",
      "\u001b[0;31mNameError\u001b[0m                                 Traceback (most recent call last)",
      "\u001b[0;32m<ipython-input-13-cebcea1ccb3f>\u001b[0m in \u001b[0;36m<module>\u001b[0;34m\u001b[0m\n\u001b[1;32m      3\u001b[0m \u001b[0mlsq\u001b[0m \u001b[0;34m=\u001b[0m \u001b[0mmetnum\u001b[0m\u001b[0;34m.\u001b[0m\u001b[0mLeastSquareMethod\u001b[0m\u001b[0;34m(\u001b[0m\u001b[0;34m)\u001b[0m\u001b[0;34m\u001b[0m\u001b[0m\n\u001b[1;32m      4\u001b[0m \u001b[0;34m\u001b[0m\u001b[0m\n\u001b[0;32m----> 5\u001b[0;31m \u001b[0munos\u001b[0m \u001b[0;34m=\u001b[0m \u001b[0mnp\u001b[0m\u001b[0;34m.\u001b[0m\u001b[0mones\u001b[0m\u001b[0;34m(\u001b[0m\u001b[0mlen\u001b[0m\u001b[0;34m(\u001b[0m\u001b[0mdf_virus\u001b[0m\u001b[0;34m)\u001b[0m\u001b[0;34m)\u001b[0m\u001b[0;34m\u001b[0m\u001b[0m\n\u001b[0m\u001b[1;32m      6\u001b[0m \u001b[0mx\u001b[0m \u001b[0;34m=\u001b[0m \u001b[0mdf_virus\u001b[0m\u001b[0;34m[\u001b[0m\u001b[0;34m\"enfermedades_all\"\u001b[0m\u001b[0;34m]\u001b[0m\u001b[0;34m.\u001b[0m\u001b[0mvalues\u001b[0m\u001b[0;34m.\u001b[0m\u001b[0mreshape\u001b[0m\u001b[0;34m(\u001b[0m\u001b[0;34m-\u001b[0m\u001b[0;36m1\u001b[0m\u001b[0;34m,\u001b[0m \u001b[0;36m1\u001b[0m\u001b[0;34m)\u001b[0m\u001b[0;34m\u001b[0m\u001b[0m\n\u001b[1;32m      7\u001b[0m \u001b[0mb\u001b[0m \u001b[0;34m=\u001b[0m \u001b[0mdf_virus\u001b[0m\u001b[0;34m[\u001b[0m\u001b[0;34m\"Life expectancy\"\u001b[0m\u001b[0;34m]\u001b[0m\u001b[0;34m.\u001b[0m\u001b[0mvalues\u001b[0m\u001b[0;34m.\u001b[0m\u001b[0mreshape\u001b[0m\u001b[0;34m(\u001b[0m\u001b[0;34m-\u001b[0m\u001b[0;36m1\u001b[0m\u001b[0;34m,\u001b[0m \u001b[0;36m1\u001b[0m\u001b[0;34m)\u001b[0m\u001b[0;34m\u001b[0m\u001b[0m\n",
      "\u001b[0;31mNameError\u001b[0m: name 'df_virus' is not defined"
     ]
    }
   ],
   "source": [
    "import metnum\n",
    "\n",
    "lsq = metnum.LeastSquareMethod()\n",
    "\n",
    "unos = np.ones(len(df_virus))\n",
    "x = df_virus[\"enfermedades_all\"].values.reshape(-1, 1)\n",
    "b = df_virus[\"Life expectancy\"].values.reshape(-1, 1)\n",
    "A = np.column_stack((unos, x))\n",
    "\n",
    "(intercept, slope) = lsq.ajustar(A, b)\n",
    "\n",
    "puntos_x = np.linspace(-3.5,12,2)\n",
    "puntos_y = puntos_x*slope + intercept\n",
    "plt.plot(puntos_x, puntos_y)\n",
    "\n",
    "ax_virus.set(xlabel='Virus', ylabel='Expectativa de vida')\n",
    "plt.savefig(\"virus1.png\", bbox_inches='tight')"
   ]
  },
  {
   "cell_type": "markdown",
   "id": "62bea51b",
   "metadata": {},
   "source": [
    "### Grafico regresion"
   ]
  },
  {
   "cell_type": "markdown",
   "id": "a761eef0",
   "metadata": {},
   "source": [
    "### Dio muchos mejores valores"
   ]
  }
 ],
 "metadata": {
  "kernelspec": {
   "display_name": "Python 3",
   "language": "python",
   "name": "python3"
  },
  "language_info": {
   "codemirror_mode": {
    "name": "ipython",
    "version": 3
   },
   "file_extension": ".py",
   "mimetype": "text/x-python",
   "name": "python",
   "nbconvert_exporter": "python",
   "pygments_lexer": "ipython3",
   "version": "3.6.5"
  }
 },
 "nbformat": 4,
 "nbformat_minor": 5
}
