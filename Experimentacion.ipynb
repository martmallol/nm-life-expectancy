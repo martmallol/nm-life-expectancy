{
 "cells": [
  {
   "cell_type": "markdown",
   "id": "5a929bfb-c114-441f-a6de-08c4dc535a7b",
   "metadata": {},
   "source": [
    "# Experimentacion"
   ]
  },
  {
   "cell_type": "code",
   "execution_count": 114,
   "id": "26dfe7f0-e66a-4c7b-92e5-0bbe1104eb39",
   "metadata": {},
   "outputs": [],
   "source": [
    "import pandas as pd\n",
    "import matplotlib.pyplot as plt\n",
    "import numpy as np\n",
    "import statsmodels.api as sm\n",
    "import statsmodels.formula.api as smf\n",
    "import pandas as pd\n",
    "import seaborn as sns\n",
    "import numpy as np\n",
    "from sklearn.metrics import r2_score, mean_squared_error\n",
    "import matplotlib.pyplot as plt\n",
    "from statsmodels.stats.outliers_influence import variance_inflation_factor\n",
    "from sklearn.linear_model import LinearRegression\n",
    "import statsmodels.api as sm\n",
    "\n",
    "\n",
    "def rmse(fitted, target):\n",
    "    rmse = np.sqrt(mean_squared_error(target, fitted))\n",
    "    return rmse\n",
    "\n",
    "def adjusted_r2(p, fitted, target):\n",
    "    n=len(target)\n",
    "    return 1 - (1-r2_score(target, fitted)) * (n-1) / (n-p-1)\n",
    "\n",
    "def standarized_residual_plot(predicted, actual):\n",
    "    residuals = actual - predicted\n",
    "    standarized_residuals = residuals/np.std(residuals)\n",
    "    plt.scatter(predicted, standarized_residuals)\n",
    "    plt.xlabel(\"Predicciones\")\n",
    "    plt.ylabel(\"Residuos standarizados\")\n",
    "    plt.hlines(0, xmin=min(predicted), xmax=max(predicted))\n",
    "    plt.title(\"Residuos standarizados\")\n",
    "    return standarized_residuals\n",
    "\n",
    "def ols_influence(lm):\n",
    "    plt.figure(figsize=(30,30))\n",
    "    sm.graphics.influence_plot(lm, alpha  = 0.05, criterion=\"cooks\")\n",
    "    plt.show()\n",
    "\n",
    "    \n",
    "def run_analysis(predictors, dataset):\n",
    "    target = dataset['Life expectancy']\n",
    "    p=len(predictors)\n",
    "    features= dataset[predictors].to_numpy()\n",
    "    if len(predictors)>1:\n",
    "        for i in range(0, len(predictors)):\n",
    "            print(f\"VIF for {predictors[i]} {variance_inflation_factor(features, i)}\")\n",
    "\n",
    "    features = sm.add_constant(features)\n",
    "    regr = sm.OLS(target, features).fit()\n",
    "    fitted = regr.predict(features)\n",
    "    print(regr.summary())\n",
    "    standarized_residuals = standarized_residual_plot(fitted, target)\n",
    "    ols_influence(regr)\n",
    "    #sm.qqplot(regr.resid)\n",
    "    plt.figure()\n",
    "    plt.hist(regr.resid)\n",
    "    plt.show()\n",
    "    return {\n",
    "        'model': regr,\n",
    "        'r2':r2_score(target, fitted),\n",
    "        'rmse':rmse(fitted, target),\n",
    "        'adjusted':adjusted_r2(p, fitted, target),\n",
    "        'standarized_residuals': standarized_residuals,\n",
    "        'fitted': fitted\n",
    "    }\n",
    "\n",
    "def residuos(predictors, dataset):\n",
    "    target = dataset['Life expectancy']\n",
    "    p=len(predictors)\n",
    "    features= dataset[predictors].to_numpy()\n",
    "    if len(predictors)>1:\n",
    "        for i in range(0, len(predictors)):\n",
    "            print(f\"VIF for {predictors[i]} {variance_inflation_factor(features, i)}\")\n",
    "\n",
    "    features = sm.add_constant(features)\n",
    "    regr = sm.OLS(target, features).fit()\n",
    "    fitted = regr.predict(features)\n",
    "    standarized_residuals = standarized_residual_plot(fitted, target)\n",
    "    return np.array(standarized_residuals)\n",
    "\n",
    "\n",
    "df = pd.read_csv(\"expectativa_de_vida.csv\")"
   ]
  },
  {
   "cell_type": "markdown",
   "id": "9c858e86-3d96-43f0-9865-2f8b4ffb7852",
   "metadata": {},
   "source": [
    "#### Como la cantidad de filas (paises) en el dataset no es demasiado significativa (miles y miles de elementos), no hare un train set que intente ser un fiel representante de todos los datos de la tabla. Sino que utilizare a todos los paises del dataset para realizar experimentos. \n",
    "#### En algunos casos, en vez de incluir a todos, me centrare en ciertos grupos en especifico, excluyendo a toda la muestra. Pero esto sera con la intencion de querer demostrar cierta anomalia o dato interesante que nos puedan proveer los datos. Como ejemplo, vere como segmentar y emplear regresion solo con paises encasillados en la condicion de 'Developing' y los que se encuentran en 'Developed'. Tambien habra un modelo con todos los paises, y otro donde no haya outliers. Se trataran a los outliers con suficiente detenimiento para entender su condicion, por que se salen tanto de la norma, son creibles sus datos? O simplemente estan encasillados en una categoria que no les corresponde si se la compara con el resto de su informacion?"
   ]
  },
  {
   "cell_type": "code",
   "execution_count": 3,
   "id": "f900064e-dc6b-4a39-b287-282b7867bd34",
   "metadata": {},
   "outputs": [
    {
     "data": {
      "text/html": [
       "<div>\n",
       "<style scoped>\n",
       "    .dataframe tbody tr th:only-of-type {\n",
       "        vertical-align: middle;\n",
       "    }\n",
       "\n",
       "    .dataframe tbody tr th {\n",
       "        vertical-align: top;\n",
       "    }\n",
       "\n",
       "    .dataframe thead th {\n",
       "        text-align: right;\n",
       "    }\n",
       "</style>\n",
       "<table border=\"1\" class=\"dataframe\">\n",
       "  <thead>\n",
       "    <tr style=\"text-align: right;\">\n",
       "      <th></th>\n",
       "      <th>Unnamed: 0</th>\n",
       "      <th>Country</th>\n",
       "      <th>Life expectancy</th>\n",
       "      <th>Adult Mortality</th>\n",
       "      <th>infant deaths</th>\n",
       "      <th>Alcohol</th>\n",
       "      <th>percentage expenditure</th>\n",
       "      <th>Hepatitis B</th>\n",
       "      <th>Measles</th>\n",
       "      <th>BMI</th>\n",
       "      <th>...</th>\n",
       "      <th>Total expenditure</th>\n",
       "      <th>Diphtheria</th>\n",
       "      <th>HIV/AIDS</th>\n",
       "      <th>GDP</th>\n",
       "      <th>Population</th>\n",
       "      <th>thinness  1-19 years</th>\n",
       "      <th>thinness 5-9 years</th>\n",
       "      <th>Income composition of resources</th>\n",
       "      <th>Schooling</th>\n",
       "      <th>Status</th>\n",
       "    </tr>\n",
       "  </thead>\n",
       "  <tbody>\n",
       "    <tr>\n",
       "      <th>0</th>\n",
       "      <td>0</td>\n",
       "      <td>Afghanistan</td>\n",
       "      <td>58.19375</td>\n",
       "      <td>269.0625</td>\n",
       "      <td>78.2500</td>\n",
       "      <td>0.014375</td>\n",
       "      <td>34.960110</td>\n",
       "      <td>64.562500</td>\n",
       "      <td>2362.2500</td>\n",
       "      <td>15.51875</td>\n",
       "      <td>...</td>\n",
       "      <td>8.252500</td>\n",
       "      <td>52.3125</td>\n",
       "      <td>0.10000</td>\n",
       "      <td>340.015425</td>\n",
       "      <td>9.972260e+06</td>\n",
       "      <td>16.58125</td>\n",
       "      <td>15.58125</td>\n",
       "      <td>0.415375</td>\n",
       "      <td>8.21250</td>\n",
       "      <td>Developing</td>\n",
       "    </tr>\n",
       "    <tr>\n",
       "      <th>1</th>\n",
       "      <td>1</td>\n",
       "      <td>Albania</td>\n",
       "      <td>75.15625</td>\n",
       "      <td>45.0625</td>\n",
       "      <td>0.6875</td>\n",
       "      <td>4.848750</td>\n",
       "      <td>193.259091</td>\n",
       "      <td>98.000000</td>\n",
       "      <td>53.3750</td>\n",
       "      <td>49.06875</td>\n",
       "      <td>...</td>\n",
       "      <td>5.945625</td>\n",
       "      <td>98.0625</td>\n",
       "      <td>0.10000</td>\n",
       "      <td>2119.726679</td>\n",
       "      <td>6.969116e+05</td>\n",
       "      <td>1.61875</td>\n",
       "      <td>1.70000</td>\n",
       "      <td>0.709875</td>\n",
       "      <td>12.13750</td>\n",
       "      <td>Developing</td>\n",
       "    </tr>\n",
       "    <tr>\n",
       "      <th>2</th>\n",
       "      <td>2</td>\n",
       "      <td>Algeria</td>\n",
       "      <td>73.61875</td>\n",
       "      <td>108.1875</td>\n",
       "      <td>20.3125</td>\n",
       "      <td>0.406667</td>\n",
       "      <td>236.185241</td>\n",
       "      <td>78.000000</td>\n",
       "      <td>1943.8750</td>\n",
       "      <td>48.74375</td>\n",
       "      <td>...</td>\n",
       "      <td>4.604000</td>\n",
       "      <td>91.8750</td>\n",
       "      <td>0.10000</td>\n",
       "      <td>2847.853392</td>\n",
       "      <td>2.164983e+07</td>\n",
       "      <td>6.09375</td>\n",
       "      <td>5.97500</td>\n",
       "      <td>0.694875</td>\n",
       "      <td>12.71250</td>\n",
       "      <td>Developing</td>\n",
       "    </tr>\n",
       "    <tr>\n",
       "      <th>3</th>\n",
       "      <td>3</td>\n",
       "      <td>Angola</td>\n",
       "      <td>49.01875</td>\n",
       "      <td>328.5625</td>\n",
       "      <td>83.7500</td>\n",
       "      <td>5.740667</td>\n",
       "      <td>102.100268</td>\n",
       "      <td>70.222222</td>\n",
       "      <td>3561.3125</td>\n",
       "      <td>18.01875</td>\n",
       "      <td>...</td>\n",
       "      <td>3.919333</td>\n",
       "      <td>47.6875</td>\n",
       "      <td>2.36875</td>\n",
       "      <td>1975.143045</td>\n",
       "      <td>1.014710e+07</td>\n",
       "      <td>6.19375</td>\n",
       "      <td>6.66875</td>\n",
       "      <td>0.458375</td>\n",
       "      <td>8.04375</td>\n",
       "      <td>Developing</td>\n",
       "    </tr>\n",
       "    <tr>\n",
       "      <th>4</th>\n",
       "      <td>4</td>\n",
       "      <td>Antigua and Barbuda</td>\n",
       "      <td>75.05625</td>\n",
       "      <td>127.5000</td>\n",
       "      <td>0.0000</td>\n",
       "      <td>7.949333</td>\n",
       "      <td>1001.585226</td>\n",
       "      <td>98.266667</td>\n",
       "      <td>0.0000</td>\n",
       "      <td>38.42500</td>\n",
       "      <td>...</td>\n",
       "      <td>4.791333</td>\n",
       "      <td>98.3125</td>\n",
       "      <td>0.12500</td>\n",
       "      <td>9759.305728</td>\n",
       "      <td>NaN</td>\n",
       "      <td>3.42500</td>\n",
       "      <td>3.37500</td>\n",
       "      <td>0.488625</td>\n",
       "      <td>8.84375</td>\n",
       "      <td>Developing</td>\n",
       "    </tr>\n",
       "    <tr>\n",
       "      <th>...</th>\n",
       "      <td>...</td>\n",
       "      <td>...</td>\n",
       "      <td>...</td>\n",
       "      <td>...</td>\n",
       "      <td>...</td>\n",
       "      <td>...</td>\n",
       "      <td>...</td>\n",
       "      <td>...</td>\n",
       "      <td>...</td>\n",
       "      <td>...</td>\n",
       "      <td>...</td>\n",
       "      <td>...</td>\n",
       "      <td>...</td>\n",
       "      <td>...</td>\n",
       "      <td>...</td>\n",
       "      <td>...</td>\n",
       "      <td>...</td>\n",
       "      <td>...</td>\n",
       "      <td>...</td>\n",
       "      <td>...</td>\n",
       "      <td>...</td>\n",
       "    </tr>\n",
       "    <tr>\n",
       "      <th>178</th>\n",
       "      <td>188</td>\n",
       "      <td>Venezuela (Bolivarian Republic of)</td>\n",
       "      <td>73.38750</td>\n",
       "      <td>163.0000</td>\n",
       "      <td>9.3750</td>\n",
       "      <td>7.420000</td>\n",
       "      <td>0.000000</td>\n",
       "      <td>66.250000</td>\n",
       "      <td>165.0000</td>\n",
       "      <td>54.48750</td>\n",
       "      <td>...</td>\n",
       "      <td>4.998667</td>\n",
       "      <td>68.5000</td>\n",
       "      <td>0.10000</td>\n",
       "      <td>NaN</td>\n",
       "      <td>NaN</td>\n",
       "      <td>1.65000</td>\n",
       "      <td>1.56250</td>\n",
       "      <td>0.726812</td>\n",
       "      <td>12.78750</td>\n",
       "      <td>Developing</td>\n",
       "    </tr>\n",
       "    <tr>\n",
       "      <th>179</th>\n",
       "      <td>189</td>\n",
       "      <td>Viet Nam</td>\n",
       "      <td>74.77500</td>\n",
       "      <td>126.5625</td>\n",
       "      <td>29.1875</td>\n",
       "      <td>3.087333</td>\n",
       "      <td>0.000000</td>\n",
       "      <td>87.538462</td>\n",
       "      <td>4232.9375</td>\n",
       "      <td>11.18750</td>\n",
       "      <td>...</td>\n",
       "      <td>5.977333</td>\n",
       "      <td>91.7500</td>\n",
       "      <td>0.14375</td>\n",
       "      <td>NaN</td>\n",
       "      <td>NaN</td>\n",
       "      <td>14.92500</td>\n",
       "      <td>15.62500</td>\n",
       "      <td>0.627063</td>\n",
       "      <td>11.51250</td>\n",
       "      <td>Developing</td>\n",
       "    </tr>\n",
       "    <tr>\n",
       "      <th>180</th>\n",
       "      <td>190</td>\n",
       "      <td>Yemen</td>\n",
       "      <td>63.86250</td>\n",
       "      <td>211.8125</td>\n",
       "      <td>39.3750</td>\n",
       "      <td>0.047333</td>\n",
       "      <td>0.000000</td>\n",
       "      <td>55.687500</td>\n",
       "      <td>2761.1875</td>\n",
       "      <td>33.48750</td>\n",
       "      <td>...</td>\n",
       "      <td>5.005333</td>\n",
       "      <td>72.6250</td>\n",
       "      <td>0.10000</td>\n",
       "      <td>NaN</td>\n",
       "      <td>NaN</td>\n",
       "      <td>13.83125</td>\n",
       "      <td>13.75000</td>\n",
       "      <td>0.475500</td>\n",
       "      <td>8.50625</td>\n",
       "      <td>Developing</td>\n",
       "    </tr>\n",
       "    <tr>\n",
       "      <th>181</th>\n",
       "      <td>191</td>\n",
       "      <td>Zambia</td>\n",
       "      <td>53.90625</td>\n",
       "      <td>354.3125</td>\n",
       "      <td>33.4375</td>\n",
       "      <td>2.239333</td>\n",
       "      <td>89.650407</td>\n",
       "      <td>69.818182</td>\n",
       "      <td>6563.8125</td>\n",
       "      <td>17.45000</td>\n",
       "      <td>...</td>\n",
       "      <td>5.824000</td>\n",
       "      <td>74.2500</td>\n",
       "      <td>11.93125</td>\n",
       "      <td>811.811841</td>\n",
       "      <td>6.260246e+06</td>\n",
       "      <td>6.88125</td>\n",
       "      <td>6.76250</td>\n",
       "      <td>0.498437</td>\n",
       "      <td>11.21250</td>\n",
       "      <td>Developing</td>\n",
       "    </tr>\n",
       "    <tr>\n",
       "      <th>182</th>\n",
       "      <td>192</td>\n",
       "      <td>Zimbabwe</td>\n",
       "      <td>50.48750</td>\n",
       "      <td>462.3750</td>\n",
       "      <td>26.5625</td>\n",
       "      <td>4.482000</td>\n",
       "      <td>20.364271</td>\n",
       "      <td>70.562500</td>\n",
       "      <td>923.0000</td>\n",
       "      <td>25.13750</td>\n",
       "      <td>...</td>\n",
       "      <td>6.158667</td>\n",
       "      <td>75.1875</td>\n",
       "      <td>23.26250</td>\n",
       "      <td>410.980194</td>\n",
       "      <td>8.021343e+06</td>\n",
       "      <td>7.01250</td>\n",
       "      <td>6.98750</td>\n",
       "      <td>0.439125</td>\n",
       "      <td>9.82500</td>\n",
       "      <td>Developing</td>\n",
       "    </tr>\n",
       "  </tbody>\n",
       "</table>\n",
       "<p>183 rows × 22 columns</p>\n",
       "</div>"
      ],
      "text/plain": [
       "     Unnamed: 0                             Country  Life expectancy  \\\n",
       "0             0                         Afghanistan         58.19375   \n",
       "1             1                             Albania         75.15625   \n",
       "2             2                             Algeria         73.61875   \n",
       "3             3                              Angola         49.01875   \n",
       "4             4                 Antigua and Barbuda         75.05625   \n",
       "..          ...                                 ...              ...   \n",
       "178         188  Venezuela (Bolivarian Republic of)         73.38750   \n",
       "179         189                            Viet Nam         74.77500   \n",
       "180         190                               Yemen         63.86250   \n",
       "181         191                              Zambia         53.90625   \n",
       "182         192                            Zimbabwe         50.48750   \n",
       "\n",
       "     Adult Mortality  infant deaths   Alcohol  percentage expenditure  \\\n",
       "0           269.0625        78.2500  0.014375               34.960110   \n",
       "1            45.0625         0.6875  4.848750              193.259091   \n",
       "2           108.1875        20.3125  0.406667              236.185241   \n",
       "3           328.5625        83.7500  5.740667              102.100268   \n",
       "4           127.5000         0.0000  7.949333             1001.585226   \n",
       "..               ...            ...       ...                     ...   \n",
       "178         163.0000         9.3750  7.420000                0.000000   \n",
       "179         126.5625        29.1875  3.087333                0.000000   \n",
       "180         211.8125        39.3750  0.047333                0.000000   \n",
       "181         354.3125        33.4375  2.239333               89.650407   \n",
       "182         462.3750        26.5625  4.482000               20.364271   \n",
       "\n",
       "     Hepatitis B    Measles       BMI  ...  Total expenditure  Diphtheria  \\\n",
       "0      64.562500  2362.2500  15.51875  ...           8.252500     52.3125   \n",
       "1      98.000000    53.3750  49.06875  ...           5.945625     98.0625   \n",
       "2      78.000000  1943.8750  48.74375  ...           4.604000     91.8750   \n",
       "3      70.222222  3561.3125  18.01875  ...           3.919333     47.6875   \n",
       "4      98.266667     0.0000  38.42500  ...           4.791333     98.3125   \n",
       "..           ...        ...       ...  ...                ...         ...   \n",
       "178    66.250000   165.0000  54.48750  ...           4.998667     68.5000   \n",
       "179    87.538462  4232.9375  11.18750  ...           5.977333     91.7500   \n",
       "180    55.687500  2761.1875  33.48750  ...           5.005333     72.6250   \n",
       "181    69.818182  6563.8125  17.45000  ...           5.824000     74.2500   \n",
       "182    70.562500   923.0000  25.13750  ...           6.158667     75.1875   \n",
       "\n",
       "     HIV/AIDS          GDP    Population  thinness  1-19 years  \\\n",
       "0     0.10000   340.015425  9.972260e+06              16.58125   \n",
       "1     0.10000  2119.726679  6.969116e+05               1.61875   \n",
       "2     0.10000  2847.853392  2.164983e+07               6.09375   \n",
       "3     2.36875  1975.143045  1.014710e+07               6.19375   \n",
       "4     0.12500  9759.305728           NaN               3.42500   \n",
       "..        ...          ...           ...                   ...   \n",
       "178   0.10000          NaN           NaN               1.65000   \n",
       "179   0.14375          NaN           NaN              14.92500   \n",
       "180   0.10000          NaN           NaN              13.83125   \n",
       "181  11.93125   811.811841  6.260246e+06               6.88125   \n",
       "182  23.26250   410.980194  8.021343e+06               7.01250   \n",
       "\n",
       "     thinness 5-9 years  Income composition of resources  Schooling  \\\n",
       "0              15.58125                         0.415375    8.21250   \n",
       "1               1.70000                         0.709875   12.13750   \n",
       "2               5.97500                         0.694875   12.71250   \n",
       "3               6.66875                         0.458375    8.04375   \n",
       "4               3.37500                         0.488625    8.84375   \n",
       "..                  ...                              ...        ...   \n",
       "178             1.56250                         0.726812   12.78750   \n",
       "179            15.62500                         0.627063   11.51250   \n",
       "180            13.75000                         0.475500    8.50625   \n",
       "181             6.76250                         0.498437   11.21250   \n",
       "182             6.98750                         0.439125    9.82500   \n",
       "\n",
       "         Status  \n",
       "0    Developing  \n",
       "1    Developing  \n",
       "2    Developing  \n",
       "3    Developing  \n",
       "4    Developing  \n",
       "..          ...  \n",
       "178  Developing  \n",
       "179  Developing  \n",
       "180  Developing  \n",
       "181  Developing  \n",
       "182  Developing  \n",
       "\n",
       "[183 rows x 22 columns]"
      ]
     },
     "execution_count": 3,
     "metadata": {},
     "output_type": "execute_result"
    }
   ],
   "source": [
    "df"
   ]
  },
  {
   "cell_type": "code",
   "execution_count": 24,
   "id": "5c195d9e-6c5f-4271-8457-572f0ffec432",
   "metadata": {},
   "outputs": [
    {
     "name": "stdout",
     "output_type": "stream",
     "text": [
      "<class 'pandas.core.frame.DataFrame'>\n",
      "RangeIndex: 183 entries, 0 to 182\n",
      "Data columns (total 22 columns):\n",
      " #   Column                           Non-Null Count  Dtype  \n",
      "---  ------                           --------------  -----  \n",
      " 0   Unnamed: 0                       183 non-null    int64  \n",
      " 1   Country                          183 non-null    object \n",
      " 2   Life expectancy                  183 non-null    float64\n",
      " 3   Adult Mortality                  183 non-null    float64\n",
      " 4   infant deaths                    183 non-null    float64\n",
      " 5   Alcohol                          182 non-null    float64\n",
      " 6   percentage expenditure           183 non-null    float64\n",
      " 7   Hepatitis B                      174 non-null    float64\n",
      " 8   Measles                          183 non-null    float64\n",
      " 9   BMI                              181 non-null    float64\n",
      " 10  under-five deaths                183 non-null    float64\n",
      " 11  Polio                            183 non-null    float64\n",
      " 12  Total expenditure                181 non-null    float64\n",
      " 13  Diphtheria                       183 non-null    float64\n",
      " 14  HIV/AIDS                         183 non-null    float64\n",
      " 15  GDP                              158 non-null    float64\n",
      " 16  Population                       143 non-null    float64\n",
      " 17  thinness  1-19 years             181 non-null    float64\n",
      " 18  thinness 5-9 years               181 non-null    float64\n",
      " 19  Income composition of resources  173 non-null    float64\n",
      " 20  Schooling                        173 non-null    float64\n",
      " 21  Status                           183 non-null    object \n",
      "dtypes: float64(19), int64(1), object(2)\n",
      "memory usage: 31.6+ KB\n"
     ]
    }
   ],
   "source": [
    "df.info()"
   ]
  },
  {
   "cell_type": "markdown",
   "id": "533b3f8c-a968-451f-a59d-d9c800c95496",
   "metadata": {},
   "source": [
    "Vemos que 'Status' es de tipo object, no float, como nos es de sumo interes incluirlo en la experimentacion, proximamente vamos a hacer que tenga un valor numerico."
   ]
  },
  {
   "cell_type": "markdown",
   "id": "a06da0bf-fc3e-4d1e-bab5-70fb6d0b8d6f",
   "metadata": {},
   "source": [
    "### Gracias al analisis exploratorio de datos provisto en 'EDA.ipynb' se puede descartar la siguiente data:"
   ]
  },
  {
   "cell_type": "markdown",
   "id": "546b273e-afda-4c15-a7fc-27a68edf265f",
   "metadata": {},
   "source": [
    "#### <b>Features \n",
    " - **Hepatitis B**: Se correlaciona mucho con Polio y Diphteria\n",
    " - **Alcohol**: No parece ser un indicador que ayude a explicar la expectativa de vida\n",
    " - **GDP**: Puede ser reemplazado por Percentage Expenditure\n",
    " - **Population**: Se puede reemplazar por Infant Deaths y Under-Five Deaths\n",
    " - **Income Composition of Resources y Schooling**: Ambos correlacionan fuerte con BMI"
   ]
  },
  {
   "cell_type": "markdown",
   "id": "aa4c3b17-660d-4b37-8548-73a6e1c8b259",
   "metadata": {},
   "source": [
    "#### <b> Paises\n",
    " - **Sudan, Sudan del Sur, Corea del Norte y Somalia**: Todos ellos tienen data incompleta"
   ]
  },
  {
   "cell_type": "markdown",
   "id": "e2ad0b69-6798-4b26-ac74-f06cf76acaaa",
   "metadata": {},
   "source": [
    "### Saco a los paises nombrados mas arriba del dataset"
   ]
  },
  {
   "cell_type": "code",
   "execution_count": 4,
   "id": "d1650e7d-0a62-4e7e-8984-b3bb9ac3cd46",
   "metadata": {},
   "outputs": [],
   "source": [
    "df_new = df[(df[\"Country\"] != \"South Sudan\")] # Borro a Sudan del Sur"
   ]
  },
  {
   "cell_type": "code",
   "execution_count": 5,
   "id": "fcbaf89e-e03a-420e-92e5-fae042b7a1b8",
   "metadata": {},
   "outputs": [],
   "source": [
    "df_new = df_new[(df_new[\"Country\"] != \"Sudan\")] # Borro a Sudan"
   ]
  },
  {
   "cell_type": "code",
   "execution_count": 6,
   "id": "25aace34-d0f8-4446-b101-a7a45387fb3b",
   "metadata": {},
   "outputs": [],
   "source": [
    "df_new = df_new[(df_new[\"Country\"] != \"Democratic People's Republic of Korea\")] # Borro a Corea del Norte"
   ]
  },
  {
   "cell_type": "code",
   "execution_count": 7,
   "id": "ee230bfa-4e7f-42bd-b8c9-6bdbbb8263fc",
   "metadata": {},
   "outputs": [],
   "source": [
    "df_new = df_new[(df_new[\"Country\"] != \"Somalia\")] # Borro a Somalia"
   ]
  },
  {
   "cell_type": "code",
   "execution_count": 8,
   "id": "80431481-646a-4a15-9abf-7af6e4aca27c",
   "metadata": {},
   "outputs": [
    {
     "name": "stdout",
     "output_type": "stream",
     "text": [
      "(183, 22)\n",
      "(179, 22)\n"
     ]
    }
   ],
   "source": [
    "print(df.shape) # Con todos los paises\n",
    "print(df_new.shape) # Sin esos paises (TENGO QUE HACER MENOS REPETITIVA LA ELIMINACION DE PAISES > BUSCAR EN GOOGLE)"
   ]
  },
  {
   "cell_type": "markdown",
   "id": "a3884dd9-18b1-4c79-8b06-f49c14e173c9",
   "metadata": {},
   "source": [
    "### Ya tengo mi muestra sin los paises que puedan llegar a truncar la experimentacion. Ahora me encargo de tener tres muestras distintas: Los paises de status 'Developing', los de estado 'Developed', y todas las naciones juntas."
   ]
  },
  {
   "cell_type": "code",
   "execution_count": 9,
   "id": "5db15e2c-f97d-4ca0-a803-c531007801f1",
   "metadata": {},
   "outputs": [],
   "source": [
    "df_developed = df_new[(df_new[\"Status\"] == \"Developed\")] # Los developed\n",
    "df_developing = df_new[(df_new[\"Status\"] == \"Developing\")] # Los developing\n",
    "# df_new es el que contiene a todas las naciones juntas"
   ]
  },
  {
   "cell_type": "code",
   "execution_count": 10,
   "id": "cb2d8052-1c15-4cf2-84e7-6ce2513d5be2",
   "metadata": {},
   "outputs": [
    {
     "name": "stdout",
     "output_type": "stream",
     "text": [
      "(32, 22)\n",
      "(147, 22)\n"
     ]
    }
   ],
   "source": [
    "print(df_developed.shape)\n",
    "print(df_developing.shape)"
   ]
  },
  {
   "cell_type": "markdown",
   "id": "a206e132-44a4-465e-bdde-a50d40d1cf59",
   "metadata": {},
   "source": [
    "## Busco variables para mis muestras de regresion: Empiezo con el data set que contiene a todos los paises"
   ]
  },
  {
   "cell_type": "code",
   "execution_count": 27,
   "id": "3bfac81b-c2da-4580-8c6e-df45039fe748",
   "metadata": {},
   "outputs": [],
   "source": [
    "df_new['Status_Float'] = df_new['Status'].apply(lambda x: 0 if x=='Developing' else 1)"
   ]
  },
  {
   "cell_type": "code",
   "execution_count": 28,
   "id": "9b676227-b8c5-413c-afdb-2ed1171036bb",
   "metadata": {},
   "outputs": [
    {
     "data": {
      "text/plain": [
       "Unnamed: 0                                     0.009284\n",
       "Life expectancy                                1.000000\n",
       "Adult Mortality                               -0.892716\n",
       "infant deaths                                 -0.200913\n",
       "Alcohol                                        0.453856\n",
       "percentage expenditure                         0.523687\n",
       "Hepatitis B                                    0.402502\n",
       "Measles                                       -0.203355\n",
       "BMI                                            0.722210\n",
       "under-five deaths                             -0.226052\n",
       "Polio                                          0.668041\n",
       "Total expenditure                              0.279391\n",
       "Diphtheria                                     0.658709\n",
       "HIV/AIDS                                      -0.598270\n",
       "GDP                                            0.609940\n",
       "Population                                    -0.042260\n",
       "thinness  1-19 years                          -0.523232\n",
       "thinness 5-9 years                            -0.515666\n",
       "Income composition of resources                0.814026\n",
       "Schooling                                      0.794511\n",
       "Normalizado_Life expectancy                    1.000000\n",
       "Normalizado_Adult Mortality                   -0.892716\n",
       "Status_Float                                   0.500508\n",
       "Normalizado_Income composition of resources    0.814026\n",
       "Name: Life expectancy, dtype: float64"
      ]
     },
     "execution_count": 43,
     "metadata": {},
     "output_type": "execute_result"
    }
   ],
   "source": [
    "df_new.corr()['Life expectancy']"
   ]
  },
  {
   "cell_type": "markdown",
   "id": "5a570f16-b4db-4cce-ae84-a8c059fbb497",
   "metadata": {},
   "source": [
    "Veo que la columna con la que mas se correlaciona es 'Adult Mortality', hago un analisis entre ambas variables para ver que conclusiones puedo sacar de entrada"
   ]
  },
  {
   "cell_type": "markdown",
   "id": "d1d05a6f-84f3-4818-8657-d2154494bdbd",
   "metadata": {},
   "source": [
    "Primero normalizo las variables"
   ]
  },
  {
   "cell_type": "code",
   "execution_count": 13,
   "id": "19fb431e-0024-443d-a987-ebdf1b6a021a",
   "metadata": {},
   "outputs": [],
   "source": [
    "features_a_normalizar = ['Life expectancy','Adult Mortality']\n",
    "for feature in features_a_normalizar:\n",
    "    df_new[f'Normalizado_{feature}'] = (df_new[feature]-np.mean(df_new[feature]))/np.std(df_new[feature])"
   ]
  },
  {
   "cell_type": "markdown",
   "id": "3b0e786d-ef1f-4561-a120-96dfb5751e2e",
   "metadata": {},
   "source": [
    "Life expectancy normalizada"
   ]
  },
  {
   "cell_type": "code",
   "execution_count": 15,
   "id": "a3fefcdb-3859-4bde-b1d0-9caf1aa46452",
   "metadata": {},
   "outputs": [
    {
     "data": {
      "text/html": [
       "<div>\n",
       "<style scoped>\n",
       "    .dataframe tbody tr th:only-of-type {\n",
       "        vertical-align: middle;\n",
       "    }\n",
       "\n",
       "    .dataframe tbody tr th {\n",
       "        vertical-align: top;\n",
       "    }\n",
       "\n",
       "    .dataframe thead th {\n",
       "        text-align: right;\n",
       "    }\n",
       "</style>\n",
       "<table border=\"1\" class=\"dataframe\">\n",
       "  <thead>\n",
       "    <tr style=\"text-align: right;\">\n",
       "      <th></th>\n",
       "      <th>Life expectancy</th>\n",
       "      <th>Normalizado_Life expectancy</th>\n",
       "    </tr>\n",
       "  </thead>\n",
       "  <tbody>\n",
       "    <tr>\n",
       "      <th>0</th>\n",
       "      <td>58.19375</td>\n",
       "      <td>-1.236622</td>\n",
       "    </tr>\n",
       "    <tr>\n",
       "      <th>1</th>\n",
       "      <td>75.15625</td>\n",
       "      <td>0.628375</td>\n",
       "    </tr>\n",
       "    <tr>\n",
       "      <th>2</th>\n",
       "      <td>73.61875</td>\n",
       "      <td>0.459329</td>\n",
       "    </tr>\n",
       "    <tr>\n",
       "      <th>3</th>\n",
       "      <td>49.01875</td>\n",
       "      <td>-2.245397</td>\n",
       "    </tr>\n",
       "    <tr>\n",
       "      <th>4</th>\n",
       "      <td>75.05625</td>\n",
       "      <td>0.617380</td>\n",
       "    </tr>\n",
       "    <tr>\n",
       "      <th>...</th>\n",
       "      <td>...</td>\n",
       "      <td>...</td>\n",
       "    </tr>\n",
       "    <tr>\n",
       "      <th>178</th>\n",
       "      <td>73.38750</td>\n",
       "      <td>0.433904</td>\n",
       "    </tr>\n",
       "    <tr>\n",
       "      <th>179</th>\n",
       "      <td>74.77500</td>\n",
       "      <td>0.586457</td>\n",
       "    </tr>\n",
       "    <tr>\n",
       "      <th>180</th>\n",
       "      <td>63.86250</td>\n",
       "      <td>-0.613353</td>\n",
       "    </tr>\n",
       "    <tr>\n",
       "      <th>181</th>\n",
       "      <td>53.90625</td>\n",
       "      <td>-1.708025</td>\n",
       "    </tr>\n",
       "    <tr>\n",
       "      <th>182</th>\n",
       "      <td>50.48750</td>\n",
       "      <td>-2.083910</td>\n",
       "    </tr>\n",
       "  </tbody>\n",
       "</table>\n",
       "<p>179 rows × 2 columns</p>\n",
       "</div>"
      ],
      "text/plain": [
       "     Life expectancy  Normalizado_Life expectancy\n",
       "0           58.19375                    -1.236622\n",
       "1           75.15625                     0.628375\n",
       "2           73.61875                     0.459329\n",
       "3           49.01875                    -2.245397\n",
       "4           75.05625                     0.617380\n",
       "..               ...                          ...\n",
       "178         73.38750                     0.433904\n",
       "179         74.77500                     0.586457\n",
       "180         63.86250                    -0.613353\n",
       "181         53.90625                    -1.708025\n",
       "182         50.48750                    -2.083910\n",
       "\n",
       "[179 rows x 2 columns]"
      ]
     },
     "execution_count": 39,
     "metadata": {},
     "output_type": "execute_result"
    }
   ],
   "source": [
    "df_new[['Life expectancy', 'Normalizado_Life expectancy']]"
   ]
  },
  {
   "cell_type": "markdown",
   "id": "864b46b6-6f2f-4487-a4cb-4762660ff37b",
   "metadata": {},
   "source": [
    "Adult mortality normalizada"
   ]
  },
  {
   "cell_type": "code",
   "execution_count": 16,
   "id": "ef4881a1-4aa2-470e-9d09-33f648cbdc9b",
   "metadata": {},
   "outputs": [
    {
     "data": {
      "text/html": [
       "<div>\n",
       "<style scoped>\n",
       "    .dataframe tbody tr th:only-of-type {\n",
       "        vertical-align: middle;\n",
       "    }\n",
       "\n",
       "    .dataframe tbody tr th {\n",
       "        vertical-align: top;\n",
       "    }\n",
       "\n",
       "    .dataframe thead th {\n",
       "        text-align: right;\n",
       "    }\n",
       "</style>\n",
       "<table border=\"1\" class=\"dataframe\">\n",
       "  <thead>\n",
       "    <tr style=\"text-align: right;\">\n",
       "      <th></th>\n",
       "      <th>Schooling</th>\n",
       "      <th>Normalizado_Schooling</th>\n",
       "    </tr>\n",
       "  </thead>\n",
       "  <tbody>\n",
       "    <tr>\n",
       "      <th>0</th>\n",
       "      <td>8.21250</td>\n",
       "      <td>-1.292895</td>\n",
       "    </tr>\n",
       "    <tr>\n",
       "      <th>1</th>\n",
       "      <td>12.13750</td>\n",
       "      <td>0.014574</td>\n",
       "    </tr>\n",
       "    <tr>\n",
       "      <th>2</th>\n",
       "      <td>12.71250</td>\n",
       "      <td>0.206114</td>\n",
       "    </tr>\n",
       "    <tr>\n",
       "      <th>3</th>\n",
       "      <td>8.04375</td>\n",
       "      <td>-1.349107</td>\n",
       "    </tr>\n",
       "    <tr>\n",
       "      <th>4</th>\n",
       "      <td>8.84375</td>\n",
       "      <td>-1.082617</td>\n",
       "    </tr>\n",
       "    <tr>\n",
       "      <th>...</th>\n",
       "      <td>...</td>\n",
       "      <td>...</td>\n",
       "    </tr>\n",
       "    <tr>\n",
       "      <th>178</th>\n",
       "      <td>12.78750</td>\n",
       "      <td>0.231097</td>\n",
       "    </tr>\n",
       "    <tr>\n",
       "      <th>179</th>\n",
       "      <td>11.51250</td>\n",
       "      <td>-0.193622</td>\n",
       "    </tr>\n",
       "    <tr>\n",
       "      <th>180</th>\n",
       "      <td>8.50625</td>\n",
       "      <td>-1.195043</td>\n",
       "    </tr>\n",
       "    <tr>\n",
       "      <th>181</th>\n",
       "      <td>11.21250</td>\n",
       "      <td>-0.293556</td>\n",
       "    </tr>\n",
       "    <tr>\n",
       "      <th>182</th>\n",
       "      <td>9.82500</td>\n",
       "      <td>-0.755750</td>\n",
       "    </tr>\n",
       "  </tbody>\n",
       "</table>\n",
       "<p>179 rows × 2 columns</p>\n",
       "</div>"
      ],
      "text/plain": [
       "     Schooling  Normalizado_Schooling\n",
       "0      8.21250              -1.292895\n",
       "1     12.13750               0.014574\n",
       "2     12.71250               0.206114\n",
       "3      8.04375              -1.349107\n",
       "4      8.84375              -1.082617\n",
       "..         ...                    ...\n",
       "178   12.78750               0.231097\n",
       "179   11.51250              -0.193622\n",
       "180    8.50625              -1.195043\n",
       "181   11.21250              -0.293556\n",
       "182    9.82500              -0.755750\n",
       "\n",
       "[179 rows x 2 columns]"
      ]
     },
     "execution_count": 45,
     "metadata": {},
     "output_type": "execute_result"
    }
   ],
   "source": [
    "df_new[['Adult Mortality', 'Normalizado_Adult Mortality']]"
   ]
  },
  {
   "cell_type": "markdown",
   "id": "61a2651a-6005-4760-bfc9-ef8a3385d38e",
   "metadata": {},
   "source": [
    "Realizamos el analisis de la regresion"
   ]
  },
  {
   "cell_type": "code",
   "execution_count": 104,
   "id": "b17ac7fc-ed16-436f-9872-6cd7e90aa50f",
   "metadata": {},
   "outputs": [
    {
     "name": "stdout",
     "output_type": "stream",
     "text": [
      "                            OLS Regression Results                            \n",
      "==============================================================================\n",
      "Dep. Variable:        Life expectancy   R-squared:                       0.797\n",
      "Model:                            OLS   Adj. R-squared:                  0.796\n",
      "Method:                 Least Squares   F-statistic:                     694.7\n",
      "Date:                Fri, 05 Nov 2021   Prob (F-statistic):           3.55e-63\n",
      "Time:                        14:05:35   Log-Likelihood:                -506.49\n",
      "No. Observations:                 179   AIC:                             1017.\n",
      "Df Residuals:                     177   BIC:                             1023.\n",
      "Df Model:                           1                                         \n",
      "Covariance Type:            nonrobust                                         \n",
      "==============================================================================\n",
      "                 coef    std err          t      P>|t|      [0.025      0.975]\n",
      "------------------------------------------------------------------------------\n",
      "const         69.4411      0.308    225.414      0.000      68.833      70.049\n",
      "x1            -8.1194      0.308    -26.357      0.000      -8.727      -7.511\n",
      "==============================================================================\n",
      "Omnibus:                       17.569   Durbin-Watson:                   1.975\n",
      "Prob(Omnibus):                  0.000   Jarque-Bera (JB):               23.012\n",
      "Skew:                          -0.625   Prob(JB):                     1.01e-05\n",
      "Kurtosis:                       4.233   Cond. No.                         1.00\n",
      "==============================================================================\n",
      "\n",
      "Notes:\n",
      "[1] Standard Errors assume that the covariance matrix of the errors is correctly specified.\n"
     ]
    },
    {
     "data": {
      "image/png": "[encoded data removed]",
      "text/plain": [
       "<Figure size 432x288 with 1 Axes>"
      ]
     },
     "metadata": {
      "needs_background": "light"
     },
     "output_type": "display_data"
    },
    {
     "data": {
      "text/plain": [
       "<Figure size 2160x2160 with 0 Axes>"
      ]
     },
     "metadata": {},
     "output_type": "display_data"
    },
    {
     "data": {
      "image/png": "[encoded data removed]",
      "text/plain": [
       "<Figure size 432x288 with 1 Axes>"
      ]
     },
     "metadata": {
      "needs_background": "light"
     },
     "output_type": "display_data"
    },
    {
     "data": {
      "image/png": "[encoded data removed]",
      "text/plain": [
       "<Figure size 432x288 with 1 Axes>"
      ]
     },
     "metadata": {
      "needs_background": "light"
     },
     "output_type": "display_data"
    },
    {
     "data": {
      "text/plain": [
       "{'model': <statsmodels.regression.linear_model.RegressionResultsWrapper at 0x7fa88fa94c40>,\n",
       " 'r2': 0.7969422820183526,\n",
       " 'rmse': 4.098468280655677,\n",
       " 'adjusted': 0.7957950632726936,\n",
       " 'standarized_residuals': 0     -0.526640\n",
       " 1     -1.050961\n",
       " 2     -0.112012\n",
       " 3     -1.526655\n",
       " 4      0.640761\n",
       "          ...   \n",
       " 178    0.972609\n",
       " 179    0.552622\n",
       " 180   -0.335288\n",
       " 181    0.201908\n",
       " 182    1.617318\n",
       " Name: Life expectancy, Length: 179, dtype: float64,\n",
       " 'fitted': array([60.35216543, 79.46357881, 74.07782894, 55.27569625, 72.43010943,\n",
       "        74.26446384, 73.29396238, 77.91717538, 77.69854593, 73.48059728,\n",
       "        70.33446617, 77.73054048, 71.24631095, 76.68538506, 64.64476804,\n",
       "        77.31994371, 70.04118276, 60.3255033 , 63.66360173, 68.16416895,\n",
       "        77.76786746, 45.07476607, 70.45177953, 77.58656499, 72.60074705,\n",
       "        61.76525822, 58.43249221, 73.39527847, 66.55377641, 58.14987366,\n",
       "        77.79452959, 54.89176161, 63.87689876, 77.8798484 , 77.01599545,\n",
       "        72.70739556, 62.75175695, 55.77161184, 77.38926524, 75.7148836 ,\n",
       "        78.39709368, 78.69037709, 77.18130065, 47.70365189, 60.66677854,\n",
       "        77.6718838 , 59.87224713, 71.06500848, 72.03550994, 68.75073576,\n",
       "        70.07850974, 59.47231521, 56.97674002, 68.83072215, 58.94440507,\n",
       "        72.64340646, 77.43192465, 77.06931971, 64.50079255, 62.0105498 ,\n",
       "        73.50192698, 77.22929248, 67.9455395 , 77.0266603 , 70.19049068,\n",
       "        72.11549632, 61.136032  , 69.80122361, 65.90855291, 68.94803551,\n",
       "        71.19298669, 70.76106022, 79.09564144, 70.80371962, 69.09734343,\n",
       "        74.17914503, 71.64091044, 77.12797639, 78.23178849, 78.68504467,\n",
       "        71.2569758 , 78.43442066, 73.55525123, 63.50896139, 53.56932006,\n",
       "        72.26480424, 76.20546676, 68.48944691, 66.48445488, 69.50260777,\n",
       "        77.73587291, 36.3775799 , 62.2398441 , 71.39028644, 73.30462723,\n",
       "        77.54390559, 63.78624752, 47.09575537, 73.19264629, 76.21079919,\n",
       "        66.06319326, 78.12513998, 69.66258054, 69.35329986, 73.83253737,\n",
       "        70.16382855, 64.35681706, 75.39493807, 75.18697347, 64.00487697,\n",
       "        70.14249885, 56.58747295, 70.74506294, 78.05048602, 77.20796277,\n",
       "        69.45461594, 63.47696684, 62.10653346, 77.65588653, 77.52790831,\n",
       "        70.16916097, 73.42194059, 60.56546246, 71.36895674, 72.8620359 ,\n",
       "        64.71408958, 74.1311532 , 78.28511275, 76.87735239, 76.80803085,\n",
       "        65.3646455 , 69.99319093, 64.14885246, 62.25050895, 70.83038175,\n",
       "        70.33446617, 71.91286415, 69.23598649, 78.86101471, 68.4467875 ,\n",
       "        72.17948543, 69.55593203, 52.78012107, 78.01849147, 73.2353057 ,\n",
       "        76.78670115, 71.35829188, 48.09291896, 77.8798484 , 70.99035452,\n",
       "        69.14533526, 54.38518118, 78.25845062, 78.55173403, 71.39561886,\n",
       "        68.15883652, 69.62525356, 78.11980755, 68.77206546, 56.74744572,\n",
       "        72.24880696, 69.36929713, 81.70852999, 74.91501976, 64.98071086,\n",
       "        57.69661748, 65.75391257, 77.58656499, 77.30394644, 57.33401254,\n",
       "        78.34376943, 73.07533293, 67.54027515, 71.54492678, 69.40129169,\n",
       "        72.51009581, 65.23666729, 53.0787369 , 43.85897303])}"
      ]
     },
     "execution_count": 104,
     "metadata": {},
     "output_type": "execute_result"
    }
   ],
   "source": [
    "run_analysis(['Normalizado_Adult Mortality'], df_new)"
   ]
  },
  {
   "cell_type": "markdown",
   "id": "826ad29e-4b99-4dda-b866-29162ca0db26",
   "metadata": {},
   "source": [
    "Chequeo outliers basandome en las desviaciones de los residuos"
   ]
  },
  {
   "cell_type": "code",
   "execution_count": 116,
   "id": "ebb73e2d-5b98-4291-aa89-0d8417d61e74",
   "metadata": {},
   "outputs": [
    {
     "data": {
      "image/png": "[encoded data removed]",
      "text/plain": [
       "<Figure size 432x288 with 1 Axes>"
      ]
     },
     "metadata": {
      "needs_background": "light"
     },
     "output_type": "display_data"
    }
   ],
   "source": [
    "residuos_adult = residuos(['Normalizado_Adult Mortality'], df_new)"
   ]
  },
  {
   "cell_type": "code",
   "execution_count": 122,
   "id": "3bb13800-e906-4a0e-b2bd-8ba1b8b6a709",
   "metadata": {},
   "outputs": [
    {
     "data": {
      "text/plain": [
       "(179,)"
      ]
     },
     "execution_count": 122,
     "metadata": {},
     "output_type": "execute_result"
    }
   ],
   "source": [
    "residuos_adult.shape"
   ]
  },
  {
   "cell_type": "code",
   "execution_count": 118,
   "id": "8b922641-4425-4883-a774-5adadff81332",
   "metadata": {},
   "outputs": [
    {
     "name": "stderr",
     "output_type": "stream",
     "text": [
      "/home/tincho/.local/lib/python3.8/site-packages/seaborn/distributions.py:2619: FutureWarning: `distplot` is a deprecated function and will be removed in a future version. Please adapt your code to use either `displot` (a figure-level function with similar flexibility) or `histplot` (an axes-level function for histograms).\n",
      "  warnings.warn(msg, FutureWarning)\n"
     ]
    },
    {
     "data": {
      "text/plain": [
       "<AxesSubplot:ylabel='Density'>"
      ]
     },
     "execution_count": 118,
     "metadata": {},
     "output_type": "execute_result"
    },
    {
     "data": {
      "image/png": "[encoded data removed]",
      "text/plain": [
       "<Figure size 432x288 with 1 Axes>"
      ]
     },
     "metadata": {
      "needs_background": "light"
     },
     "output_type": "display_data"
    }
   ],
   "source": [
    "sns.distplot(residuos_adult)"
   ]
  },
  {
   "cell_type": "markdown",
   "id": "c4731ec1-1843-487c-a1dc-5292718e65a3",
   "metadata": {},
   "source": [
    "tengo que atender los casos donde el modulo del residuo sea mayor a 2.5, ellos son outliers"
   ]
  },
  {
   "cell_type": "code",
   "execution_count": 119,
   "id": "1649739c-bd54-483f-8ad0-abaeba206559",
   "metadata": {},
   "outputs": [
    {
     "data": {
      "image/png": "[encoded data removed]",
      "text/plain": [
       "<Figure size 432x288 with 1 Axes>"
      ]
     },
     "metadata": {
      "needs_background": "light"
     },
     "output_type": "display_data"
    }
   ],
   "source": [
    "fig, ax = plt.subplots()\n",
    "\n",
    "df_new.plot(\n",
    "    x    = 'Normalizado_Adult Mortality',\n",
    "    y    = 'Normalizado_Life expectancy',\n",
    "    c    = 'firebrick',\n",
    "    kind = \"scatter\",\n",
    "    ax   = ax\n",
    ")\n",
    "ax.set_title('Distribución de Life expectancy y Adult Mortality');"
   ]
  },
  {
   "cell_type": "code",
   "execution_count": 80,
   "id": "a675c385-1022-4e48-a185-9ba3d653d65a",
   "metadata": {},
   "outputs": [
    {
     "data": {
      "text/plain": [
       "<AxesSubplot:xlabel='Normalizado_Adult Mortality', ylabel='Count'>"
      ]
     },
     "execution_count": 80,
     "metadata": {},
     "output_type": "execute_result"
    },
    {
     "data": {
      "image/png": "[encoded data removed]",
      "text/plain": [
       "<Figure size 432x288 with 1 Axes>"
      ]
     },
     "metadata": {
      "needs_background": "light"
     },
     "output_type": "display_data"
    }
   ],
   "source": [
    "sns.histplot(df_new[\"Normalizado_Adult Mortality\"], bins=30)"
   ]
  },
  {
   "cell_type": "markdown",
   "id": "86b70d13-ea8d-48d3-a210-79b635886801",
   "metadata": {},
   "source": [
    "Notamos que tanto el R2 como el R2 ajustado nos muestran una performance bastante aceptable, por arriba de los 0.7, algo ideal en el analisis de datos. Ahora hay que chequear los graficos, como se interpretan?"
   ]
  },
  {
   "cell_type": "code",
   "execution_count": 81,
   "id": "b7f87aa9-ba0f-41b6-8181-de6db8a713d0",
   "metadata": {},
   "outputs": [
    {
     "data": {
      "text/plain": [
       "(array([ 21,  91, 178]),)"
      ]
     },
     "execution_count": 81,
     "metadata": {},
     "output_type": "execute_result"
    }
   ],
   "source": [
    "np.where(df_new[\"Normalizado_Adult Mortality\"] > 3)"
   ]
  },
  {
   "cell_type": "markdown",
   "id": "99170b13-5578-4934-b9d8-a62999d90d81",
   "metadata": {},
   "source": [
    "### Interpretacion de los graficos ACA ->"
   ]
  },
  {
   "cell_type": "markdown",
   "id": "5c80b635-9ad9-4806-a58e-b647b5ea9e0a",
   "metadata": {
    "tags": []
   },
   "source": [
    "### Agrego ahora el status de los paises como variable"
   ]
  },
  {
   "cell_type": "code",
   "execution_count": 50,
   "id": "a9e1826c-8ae0-44bb-9854-d5cd6c5e052a",
   "metadata": {
    "collapsed": true,
    "jupyter": {
     "outputs_hidden": true
    },
    "tags": []
   },
   "outputs": [
    {
     "name": "stdout",
     "output_type": "stream",
     "text": [
      "VIF for Normalizado_Adult Mortality 1.1567230271897124\n",
      "VIF for Status_Float 1.1567230271897122\n",
      "                            OLS Regression Results                            \n",
      "==============================================================================\n",
      "Dep. Variable:        Life expectancy   R-squared:                       0.820\n",
      "Model:                            OLS   Adj. R-squared:                  0.818\n",
      "Method:                 Least Squares   F-statistic:                     400.1\n",
      "Date:                Fri, 05 Nov 2021   Prob (F-statistic):           3.34e-66\n",
      "Time:                        12:50:42   Log-Likelihood:                -495.84\n",
      "No. Observations:                 179   AIC:                             997.7\n",
      "Df Residuals:                     176   BIC:                             1007.\n",
      "Df Model:                           2                                         \n",
      "Covariance Type:            nonrobust                                         \n",
      "==============================================================================\n",
      "                 coef    std err          t      P>|t|      [0.025      0.975]\n",
      "------------------------------------------------------------------------------\n",
      "const         68.7402      0.327    210.316      0.000      68.095      69.385\n",
      "x1            -7.5093      0.319    -23.573      0.000      -8.138      -6.881\n",
      "x2             3.9202      0.831      4.715      0.000       2.279       5.561\n",
      "==============================================================================\n",
      "Omnibus:                       19.435   Durbin-Watson:                   1.958\n",
      "Prob(Omnibus):                  0.000   Jarque-Bera (JB):               26.574\n",
      "Skew:                          -0.662   Prob(JB):                     1.70e-06\n",
      "Kurtosis:                       4.346   Cond. No.                         3.04\n",
      "==============================================================================\n",
      "\n",
      "Notes:\n",
      "[1] Standard Errors assume that the covariance matrix of the errors is correctly specified.\n"
     ]
    },
    {
     "data": {
      "image/png": "[encoded data removed]",
      "text/plain": [
       "<Figure size 432x288 with 1 Axes>"
      ]
     },
     "metadata": {
      "needs_background": "light"
     },
     "output_type": "display_data"
    },
    {
     "data": {
      "text/plain": [
       "<Figure size 2160x2160 with 0 Axes>"
      ]
     },
     "metadata": {},
     "output_type": "display_data"
    },
    {
     "data": {
      "image/png": "[encoded data removed]",
      "text/plain": [
       "<Figure size 432x288 with 1 Axes>"
      ]
     },
     "metadata": {
      "needs_background": "light"
     },
     "output_type": "display_data"
    },
    {
     "data": {
      "image/png": "[encoded data removed]",
      "text/plain": [
       "<Figure size 432x288 with 1 Axes>"
      ]
     },
     "metadata": {
      "needs_background": "light"
     },
     "output_type": "display_data"
    },
    {
     "data": {
      "text/plain": [
       "{'model': <statsmodels.regression.linear_model.RegressionResultsWrapper at 0x7fa88d735430>,\n",
       " 'r2': 0.8197173350637883,\n",
       " 'rmse': 3.8617914110837264,\n",
       " 'adjusted': 0.8176686684167859,\n",
       " 'standarized_residuals': 0     -0.554291\n",
       " 1     -0.738875\n",
       " 2      0.152822\n",
       " 3     -1.714372\n",
       " 4      0.919670\n",
       "          ...   \n",
       " 178    1.212920\n",
       " 179    0.827685\n",
       " 180   -0.256169\n",
       " 181    0.077380\n",
       " 182    1.400138\n",
       " Name: Life expectancy, Length: 179, dtype: float64,\n",
       " 'fitted': array([60.3343058 , 78.00963146, 73.02858266, 55.63929743, 71.50467763,\n",
       "        73.20119326, 72.30361813, 80.49967456, 80.29747357, 72.47622873,\n",
       "        69.56650715, 76.40681873, 70.40983324, 75.44019935, 64.30434965,\n",
       "        79.94732063, 69.29526192, 60.30964715, 63.39691106, 67.55929243,\n",
       "        76.44134085, 46.20489509, 69.67500524, 76.27366198, 75.58273826,\n",
       "        61.64121465, 58.55888247, 72.39732103, 66.06990952, 58.2975007 ,\n",
       "        76.4659995 , 55.28421276, 63.59418032, 76.54490721, 75.74596671,\n",
       "        71.76112766, 62.55358497, 56.09794845, 76.09118791, 78.46286945,\n",
       "        77.02328516, 81.21477562, 79.81909561, 48.63623871, 60.62527796,\n",
       "        80.27281491, 59.89044997, 70.24215436, 71.1397295 , 68.1017829 ,\n",
       "        69.32978404, 59.52057011, 57.21251977, 68.17575887, 59.03232869,\n",
       "        71.70194689, 76.13064176, 75.79528402, 64.1711929 , 61.8680743 ,\n",
       "        72.49595565, 79.8634812 , 67.35709144, 75.75583017, 69.4333504 ,\n",
       "        71.21370547, 61.05927033, 69.073334  , 65.47317001, 68.28425696,\n",
       "        70.36051592, 73.8812909 , 81.58958722, 70.00049952, 68.42234545,\n",
       "        73.12228555, 70.77478137, 79.7697783 , 76.87040149, 81.20984389,\n",
       "        70.4196967 , 80.97805251, 72.54527297, 63.25389084, 54.06114335,\n",
       "        71.35179395, 74.99634352, 67.86012806, 66.00579702, 72.71740227,\n",
       "        76.41175046, 38.16124103, 62.08013875, 70.54298999, 76.23372682,\n",
       "        80.15445335, 63.51034088, 48.07402132, 72.20991523, 75.00127525,\n",
       "        65.61619023, 80.69201209, 68.94510898, 68.65906856, 72.80172301,\n",
       "        69.40869174, 64.03803615, 74.24672033, 74.05438281, 63.71254187,\n",
       "        69.38896482, 56.85250337, 69.94625048, 80.62296785, 79.84375427,\n",
       "        68.75277145, 63.22430046, 61.95684546, 80.25801972, 76.21941293,\n",
       "        69.41362347, 72.42197968, 60.53157506, 70.52326306, 71.90414788,\n",
       "        64.36846216, 76.9981452 , 80.83996403, 75.61774169, 75.55362918,\n",
       "        64.9701334 , 73.17112157, 63.84569862, 62.09000221, 70.02515818,\n",
       "        69.56650715, 71.02629967, 68.55057046, 77.4523458 , 67.8206742 ,\n",
       "        71.27288625, 68.84647435, 53.33124709, 80.59337746, 76.16961431,\n",
       "        79.45414748, 70.5133996 , 48.99625511, 80.46515244, 70.17311012,\n",
       "        68.46673103, 54.81569827, 80.81530537, 81.08655061, 70.54792172,\n",
       "        67.5543607 , 68.91058686, 76.76683512, 68.12150982, 57.00045532,\n",
       "        71.33699876, 68.67386375, 80.08589042, 73.8028645 , 64.61504874,\n",
       "        57.87830352, 65.3301498 , 76.27366198, 79.93252544, 57.54294578,\n",
       "        80.89421308, 72.10141714, 66.98227985, 70.6860102 , 68.70345414,\n",
       "        71.5786536 , 64.85177185, 53.60742405, 45.08046031])}"
      ]
     },
     "execution_count": 50,
     "metadata": {},
     "output_type": "execute_result"
    }
   ],
   "source": [
    "run_analysis(['Normalizado_Adult Mortality', 'Status_Float'], df_new)"
   ]
  },
  {
   "cell_type": "code",
   "execution_count": 58,
   "id": "f07b9d25-8d58-4955-a1dc-f2b6368bb936",
   "metadata": {},
   "outputs": [
    {
     "data": {
      "text/plain": [
       "Unnamed: 0                         0.021571\n",
       "Life expectancy                    0.723824\n",
       "Adult Mortality                   -0.621810\n",
       "infant deaths                     -0.286579\n",
       "Alcohol                            0.450205\n",
       "percentage expenditure             0.364079\n",
       "Hepatitis B                        0.300396\n",
       "Measles                           -0.309725\n",
       "BMI                                1.000000\n",
       "under-five deaths                 -0.300138\n",
       "Polio                              0.506371\n",
       "Total expenditure                  0.391820\n",
       "Diphtheria                         0.492614\n",
       "HIV/AIDS                          -0.340577\n",
       "GDP                                0.466903\n",
       "Population                        -0.149859\n",
       "thinness  1-19 years              -0.714633\n",
       "thinness 5-9 years                -0.717365\n",
       "Income composition of resources    0.681697\n",
       "Schooling                          0.721263\n",
       "Name: BMI, dtype: float64"
      ]
     },
     "execution_count": 58,
     "metadata": {},
     "output_type": "execute_result"
    }
   ],
   "source": [
    "df.corr()[\"BMI\"]"
   ]
  },
  {
   "cell_type": "code",
   "execution_count": 57,
   "id": "192380ec-928a-42d7-9d28-bc97e6839d05",
   "metadata": {
    "collapsed": true,
    "jupyter": {
     "outputs_hidden": true
    },
    "tags": []
   },
   "outputs": [
    {
     "name": "stdout",
     "output_type": "stream",
     "text": [
      "VIF for BMI 1.3845854353133478\n",
      "VIF for Status_Float 1.384585435313348\n",
      "                            OLS Regression Results                            \n",
      "==============================================================================\n",
      "Dep. Variable:        Life expectancy   R-squared:                       0.577\n",
      "Model:                            OLS   Adj. R-squared:                  0.572\n",
      "Method:                 Least Squares   F-statistic:                     120.0\n",
      "Date:                Fri, 05 Nov 2021   Prob (F-statistic):           1.36e-33\n",
      "Time:                        13:06:25   Log-Likelihood:                -572.21\n",
      "No. Observations:                 179   AIC:                             1150.\n",
      "Df Residuals:                     176   BIC:                             1160.\n",
      "Df Model:                           2                                         \n",
      "Covariance Type:            nonrobust                                         \n",
      "==============================================================================\n",
      "                 coef    std err          t      P>|t|      [0.025      0.975]\n",
      "------------------------------------------------------------------------------\n",
      "const         54.6639      1.192     45.843      0.000      52.311      57.017\n",
      "x1             0.3564      0.031     11.650      0.000       0.296       0.417\n",
      "x2             6.0698      1.266      4.793      0.000       3.571       8.569\n",
      "==============================================================================\n",
      "Omnibus:                        1.700   Durbin-Watson:                   2.070\n",
      "Prob(Omnibus):                  0.427   Jarque-Bera (JB):                1.413\n",
      "Skew:                          -0.022   Prob(JB):                        0.493\n",
      "Kurtosis:                       3.433   Cond. No.                         126.\n",
      "==============================================================================\n",
      "\n",
      "Notes:\n",
      "[1] Standard Errors assume that the covariance matrix of the errors is correctly specified.\n"
     ]
    },
    {
     "data": {
      "image/png": "[encoded data removed]",
      "text/plain": [
       "<Figure size 432x288 with 1 Axes>"
      ]
     },
     "metadata": {
      "needs_background": "light"
     },
     "output_type": "display_data"
    },
    {
     "data": {
      "text/plain": [
       "<Figure size 2160x2160 with 0 Axes>"
      ]
     },
     "metadata": {},
     "output_type": "display_data"
    },
    {
     "data": {
      "image/png": "[encoded data removed]",
      "text/plain": [
       "<Figure size 432x288 with 1 Axes>"
      ]
     },
     "metadata": {
      "needs_background": "light"
     },
     "output_type": "display_data"
    },
    {
     "data": {
      "image/png": "[encoded data removed]",
      "text/plain": [
       "<Figure size 432x288 with 1 Axes>"
      ]
     },
     "metadata": {
      "needs_background": "light"
     },
     "output_type": "display_data"
    },
    {
     "data": {
      "text/plain": [
       "{'model': <statsmodels.regression.linear_model.RegressionResultsWrapper at 0x7fa88d529850>,\n",
       " 'r2': 0.5768273965204069,\n",
       " 'rmse': 5.9165780692373335,\n",
       " 'adjusted': 0.5720186169354116,\n",
       " 'standarized_residuals': 0     -0.338272\n",
       " 1      0.507565\n",
       " 2      0.267280\n",
       " 3     -2.039603\n",
       " 4      1.131860\n",
       "          ...   \n",
       " 178   -0.117818\n",
       " 179    2.725157\n",
       " 180   -0.462626\n",
       " 181   -1.179272\n",
       " 182   -2.220205\n",
       " Name: Life expectancy, Length: 179, dtype: float64,\n",
       " 'fitted': array([60.19515982, 72.15320314, 72.03736516, 61.08622117, 68.35950944,\n",
       "        74.26056323, 70.59830108, 80.64443397, 77.94451808, 70.29088492,\n",
       "        73.5120717 , 73.07545164, 59.25286244, 71.05051472, 74.1759124 ,\n",
       "        78.87344954, 68.09219103, 61.65427278, 60.93028543, 70.63839884,\n",
       "        72.11533303, 66.15636025, 71.4381264 , 65.25638829, 80.15880554,\n",
       "        60.18847686, 60.12164725, 63.35174465, 60.13946848, 63.08219859,\n",
       "        74.57466236, 60.75430081, 60.48029945, 74.47664561, 62.43617911,\n",
       "        72.32250479, 61.17087199, 62.12207999, 71.31783312, 79.39472043,\n",
       "        72.2935453 , 79.68208772, 80.59097029, 62.2646498 , 60.30877014,\n",
       "        80.63106805, 64.02004066, 71.82351044, 70.10153438, 72.22226039,\n",
       "        70.81883877, 61.02830218, 60.06595592, 74.86648495, 59.93897968,\n",
       "        72.68561229, 73.30489993, 73.19128961, 64.9356062 , 61.89931465,\n",
       "        71.68094062, 79.26551653, 62.40721962, 75.57933403, 68.9966183 ,\n",
       "        69.07904148, 60.89018767, 61.58967083, 67.63106678, 68.6624703 ,\n",
       "        68.8295443 , 81.0253627 , 78.93805149, 59.93675202, 61.77679371,\n",
       "        71.9972674 , 71.98390148, 79.8692106 , 74.26279088, 80.74690603,\n",
       "        70.85448122, 69.86036398, 73.55439711, 70.75869212, 60.21075339,\n",
       "        79.41089784, 75.90902673, 67.17885315, 59.78304394, 79.02047466,\n",
       "        74.38753947, 63.65916082, 61.78793198, 74.2093272 , 78.28089374,\n",
       "        77.77967173, 59.92784141, 60.6451458 , 65.06035479, 61.54066245,\n",
       "        60.79885388, 84.3222897 , 62.67453802, 63.92425157, 72.99080081,\n",
       "        77.88495527, 68.84736553, 72.65888045, 71.99281209, 60.41792515,\n",
       "        60.76766673, 64.72397913, 60.07263888, 79.969455  , 80.91620769,\n",
       "        69.87654139, 60.49589302, 61.70328115, 78.84449005, 70.62503292,\n",
       "        61.19092087, 72.24008162, 69.20156241, 68.75157643, 70.65622007,\n",
       "        61.50279235, 79.88480417, 76.28491632, 78.06316754, 62.94853939,\n",
       "        70.31316145, 79.35685032, 73.66800743, 59.92115845, 68.77608062,\n",
       "        69.63149952, 77.08522771, 62.09534815, 74.37862886, 61.2377016 ,\n",
       "        73.24698095, 64.78858108, 61.18869322, 69.96729134, 79.20314224,\n",
       "        79.3390291 , 68.62682784, 68.26149269, 81.64465034, 60.82113041,\n",
       "        72.54081483, 63.75272226, 80.78254848, 79.06725538, 71.52723254,\n",
       "        66.46600407, 62.3604389 , 73.52098231, 59.84987354, 61.07731055,\n",
       "        77.09859363, 68.11223991, 71.8636082 , 74.77069585, 68.25035442,\n",
       "        60.19738747, 72.80367792, 73.8417644 , 80.47513232, 60.83672399,\n",
       "        81.56668247, 73.52766527, 67.06969813, 70.43791004, 74.08457861,\n",
       "        58.65139603, 66.59966327, 60.88350471, 63.62351836])}"
      ]
     },
     "execution_count": 57,
     "metadata": {},
     "output_type": "execute_result"
    }
   ],
   "source": [
    "run_analysis(['BMI', 'Status_Float'], df_new)"
   ]
  },
  {
   "cell_type": "code",
   "execution_count": 65,
   "id": "83c748b5-c9ea-47c2-927c-0f1ecffeb10f",
   "metadata": {},
   "outputs": [
    {
     "data": {
      "text/plain": [
       "Unnamed: 0                                             141\n",
       "Country                                             Rwanda\n",
       "Life expectancy                                    59.3125\n",
       "Adult Mortality                                    246.812\n",
       "infant deaths                                        20.75\n",
       "Alcohol                                              5.636\n",
       "percentage expenditure                             20.1914\n",
       "Hepatitis B                                             96\n",
       "Measles                                            505.875\n",
       "BMI                                                  14.75\n",
       "under-five deaths                                  32.0625\n",
       "Polio                                                 88.5\n",
       "Total expenditure                                  6.35067\n",
       "Diphtheria                                          89.375\n",
       "HIV/AIDS                                             4.425\n",
       "GDP                                                300.018\n",
       "Population                                     3.73551e+06\n",
       "thinness  1-19 years                               6.63125\n",
       "thinness 5-9 years                                 6.65625\n",
       "Income composition of resources                   0.417687\n",
       "Schooling                                           9.2875\n",
       "Status                                          Developing\n",
       "Normalizado_Life expectancy                       -1.11362\n",
       "Normalizado_Adult Mortality                       0.885599\n",
       "Status_Float                                             0\n",
       "Normalizado_Income composition of resources       -1.18939\n",
       "Normalizado_Schooling                            -0.934798\n",
       "Name: 134, dtype: object"
      ]
     },
     "execution_count": 65,
     "metadata": {},
     "output_type": "execute_result"
    }
   ],
   "source": [
    "df_new.iloc[133]"
   ]
  },
  {
   "cell_type": "markdown",
   "id": "a2dc7f88-8cf9-415b-b964-88df9d975f81",
   "metadata": {},
   "source": [
    "Que pasa si me deshago de los outliers?"
   ]
  },
  {
   "cell_type": "markdown",
   "id": "7325c206-309b-4194-8395-581d6197bc8d",
   "metadata": {},
   "source": [
    "### Deshaciendome de los outliers"
   ]
  },
  {
   "cell_type": "code",
   "execution_count": 79,
   "id": "16b3a6a3-c542-4f71-bd5e-c3f789fe3274",
   "metadata": {},
   "outputs": [
    {
     "data": {
      "text/plain": [
       "<AxesSubplot:xlabel='Normalizado_Adult Mortality', ylabel='Count'>"
      ]
     },
     "execution_count": 79,
     "metadata": {},
     "output_type": "execute_result"
    },
    {
     "data": {
      "image/png": "[encoded data removed]",
      "text/plain": [
       "<Figure size 432x288 with 1 Axes>"
      ]
     },
     "metadata": {
      "needs_background": "light"
     },
     "output_type": "display_data"
    }
   ],
   "source": []
  },
  {
   "cell_type": "code",
   "execution_count": 76,
   "id": "b3279065-5153-4e84-a21f-c8196d9bfc07",
   "metadata": {},
   "outputs": [
    {
     "data": {
      "text/plain": [
       "(array([ 21,  91, 178]),)"
      ]
     },
     "execution_count": 76,
     "metadata": {},
     "output_type": "execute_result"
    }
   ],
   "source": [
    "np.where(df_new[\"Normalizado_Adult Mortality\"] > 3)"
   ]
  },
  {
   "cell_type": "code",
   "execution_count": 78,
   "id": "ee54407e-0361-4021-be8a-677d958c63dd",
   "metadata": {},
   "outputs": [
    {
     "data": {
      "text/plain": [
       "Unnamed: 0                                             192\n",
       "Country                                           Zimbabwe\n",
       "Life expectancy                                    50.4875\n",
       "Adult Mortality                                    462.375\n",
       "infant deaths                                      26.5625\n",
       "Alcohol                                              4.482\n",
       "percentage expenditure                             20.3643\n",
       "Hepatitis B                                        70.5625\n",
       "Measles                                                923\n",
       "BMI                                                25.1375\n",
       "under-five deaths                                  40.8125\n",
       "Polio                                               75.625\n",
       "Total expenditure                                  6.15867\n",
       "Diphtheria                                         75.1875\n",
       "HIV/AIDS                                           23.2625\n",
       "GDP                                                 410.98\n",
       "Population                                     8.02134e+06\n",
       "thinness  1-19 years                                7.0125\n",
       "thinness 5-9 years                                  6.9875\n",
       "Income composition of resources                   0.439125\n",
       "Schooling                                            9.825\n",
       "Status                                          Developing\n",
       "Normalizado_Life expectancy                       -2.08391\n",
       "Normalizado_Adult Mortality                        3.15073\n",
       "Status_Float                                             0\n",
       "Normalizado_Income composition of resources       -1.07009\n",
       "Normalizado_Schooling                             -0.75575\n",
       "Name: 182, dtype: object"
      ]
     },
     "execution_count": 78,
     "metadata": {},
     "output_type": "execute_result"
    }
   ],
   "source": []
  },
  {
   "cell_type": "code",
   "execution_count": null,
   "id": "d2be1a34-3cc8-4133-bb9b-dd45af32e8b0",
   "metadata": {},
   "outputs": [],
   "source": []
  }
 ],
 "metadata": {
  "kernelspec": {
   "display_name": "Python 3",
   "language": "python",
   "name": "python3"
  },
  "language_info": {
   "codemirror_mode": {
    "name": "ipython",
    "version": 3
   },
   "file_extension": ".py",
   "mimetype": "text/x-python",
   "name": "python",
   "nbconvert_exporter": "python",
   "pygments_lexer": "ipython3",
   "version": "3.8.10"
  }
 },
 "nbformat": 4,
 "nbformat_minor": 5
}
